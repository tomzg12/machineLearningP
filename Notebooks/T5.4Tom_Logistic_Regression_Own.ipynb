{
 "cells": [
  {
   "cell_type": "markdown",
   "metadata": {},
   "source": [
    "# Logistic Regression YT"
   ]
  },
  {
   "cell_type": "markdown",
   "metadata": {},
   "source": [
    "#### Importación de librerías [General]"
   ]
  },
  {
   "cell_type": "code",
   "execution_count": 50,
   "metadata": {},
   "outputs": [],
   "source": [
    "import pandas as pd\n",
    "import numpy as np\n",
    "import matplotlib.pyplot as plt\n",
    "%matplotlib inline\n",
    "pd.options.display.max_columns = None   #Despliegue de todas las columnas"
   ]
  },
  {
   "cell_type": "markdown",
   "metadata": {},
   "source": [
    "#### Traer el dataset"
   ]
  },
  {
   "cell_type": "code",
   "execution_count": 51,
   "metadata": {},
   "outputs": [],
   "source": [
    "data = pd.read_csv(r'F:/BD/CSV/Gentera/Cierre/CierreMensual_Log_Regres.txt', \n",
    "                  encoding = 'ISO-8859-1', sep = '\\t')"
   ]
  },
  {
   "cell_type": "markdown",
   "metadata": {},
   "source": [
    "## Data discovery"
   ]
  },
  {
   "cell_type": "markdown",
   "metadata": {},
   "source": [
    "#### Presentación de todos los campos del dataset"
   ]
  },
  {
   "cell_type": "code",
   "execution_count": 52,
   "metadata": {},
   "outputs": [
    {
     "data": {
      "text/html": [
       "<div>\n",
       "<style scoped>\n",
       "    .dataframe tbody tr th:only-of-type {\n",
       "        vertical-align: middle;\n",
       "    }\n",
       "\n",
       "    .dataframe tbody tr th {\n",
       "        vertical-align: top;\n",
       "    }\n",
       "\n",
       "    .dataframe thead th {\n",
       "        text-align: right;\n",
       "    }\n",
       "</style>\n",
       "<table border=\"1\" class=\"dataframe\">\n",
       "  <thead>\n",
       "    <tr style=\"text-align: right;\">\n",
       "      <th></th>\n",
       "      <th>fechaObservacion</th>\n",
       "      <th>Id_Sucursal</th>\n",
       "      <th>Idpersona</th>\n",
       "      <th>IdOportunidad</th>\n",
       "      <th>OS</th>\n",
       "      <th>Numero_Nomina_Actual</th>\n",
       "      <th>CicloPersonaCI</th>\n",
       "      <th>FechaInicio</th>\n",
       "      <th>NoCuenta</th>\n",
       "      <th>FechaCreacionOportunidad</th>\n",
       "      <th>Frecuencia_Pago</th>\n",
       "      <th>Tiene_Credianticipo</th>\n",
       "      <th>producto</th>\n",
       "      <th>NivelDeRiesgo</th>\n",
       "      <th>TipoSolicitante</th>\n",
       "      <th>Ano_Corte</th>\n",
       "      <th>Mes_Corte</th>\n",
       "      <th>DelMes</th>\n",
       "      <th>Clase</th>\n",
       "      <th>Tiene_Aval</th>\n",
       "      <th>Requiere_Aval</th>\n",
       "      <th>Cumplimiento_Politica_Aval</th>\n",
       "      <th>Rango_Monto_Actual</th>\n",
       "      <th>Incremento_MontoAnterior</th>\n",
       "      <th>Cumplimiento_Politica_Monto</th>\n",
       "      <th>Plazo</th>\n",
       "      <th>TasaInteres</th>\n",
       "      <th>Rango_Plazo</th>\n",
       "      <th>Rango_Edad</th>\n",
       "      <th>montoprestado</th>\n",
       "      <th>saldo</th>\n",
       "      <th>Saldo_8_90</th>\n",
       "      <th>Saldo_30mas</th>\n",
       "      <th>DiasAtraso</th>\n",
       "      <th>Max_Dias_Atraso</th>\n",
       "      <th>MontoPrestadoAnterior</th>\n",
       "      <th>Saldo_8_60</th>\n",
       "      <th>Mora</th>\n",
       "    </tr>\n",
       "  </thead>\n",
       "  <tbody>\n",
       "    <tr>\n",
       "      <th>0</th>\n",
       "      <td>31/12/2018</td>\n",
       "      <td>3</td>\n",
       "      <td>2488881</td>\n",
       "      <td>13725278</td>\n",
       "      <td>LAZARO CARDENAS</td>\n",
       "      <td>75779</td>\n",
       "      <td>3</td>\n",
       "      <td>14/05/2018</td>\n",
       "      <td>134619719</td>\n",
       "      <td>24/04/2018</td>\n",
       "      <td>Mensual</td>\n",
       "      <td>NO_Credianticipo</td>\n",
       "      <td>CRÉDITO INDIVIDUAL</td>\n",
       "      <td>Excelente</td>\n",
       "      <td>Subsecuente</td>\n",
       "      <td>2018</td>\n",
       "      <td>12</td>\n",
       "      <td>0</td>\n",
       "      <td>Subsecuente</td>\n",
       "      <td>SI</td>\n",
       "      <td>NO</td>\n",
       "      <td>No Cumple Politica: Si pide Aval</td>\n",
       "      <td>20,000-24,999</td>\n",
       "      <td>Incremento_Menor_a_1000</td>\n",
       "      <td>Cumple Politica Monto</td>\n",
       "      <td>12.0</td>\n",
       "      <td>77.61</td>\n",
       "      <td>9 a 12 meses</td>\n",
       "      <td>40-49</td>\n",
       "      <td>21045.15</td>\n",
       "      <td>12771.07</td>\n",
       "      <td>12771.07</td>\n",
       "      <td>0.0</td>\n",
       "      <td>17</td>\n",
       "      <td>33</td>\n",
       "      <td>20789.92</td>\n",
       "      <td>12771.07</td>\n",
       "      <td>0</td>\n",
       "    </tr>\n",
       "  </tbody>\n",
       "</table>\n",
       "</div>"
      ],
      "text/plain": [
       "  fechaObservacion  Id_Sucursal  Idpersona  IdOportunidad               OS  \\\n",
       "0       31/12/2018            3    2488881       13725278  LAZARO CARDENAS   \n",
       "\n",
       "   Numero_Nomina_Actual  CicloPersonaCI FechaInicio   NoCuenta  \\\n",
       "0                 75779               3  14/05/2018  134619719   \n",
       "\n",
       "  FechaCreacionOportunidad Frecuencia_Pago Tiene_Credianticipo  \\\n",
       "0               24/04/2018         Mensual    NO_Credianticipo   \n",
       "\n",
       "             producto NivelDeRiesgo TipoSolicitante  Ano_Corte  Mes_Corte  \\\n",
       "0  CRÉDITO INDIVIDUAL     Excelente     Subsecuente       2018         12   \n",
       "\n",
       "   DelMes        Clase Tiene_Aval Requiere_Aval  \\\n",
       "0       0  Subsecuente         SI            NO   \n",
       "\n",
       "         Cumplimiento_Politica_Aval Rango_Monto_Actual  \\\n",
       "0  No Cumple Politica: Si pide Aval      20,000-24,999   \n",
       "\n",
       "  Incremento_MontoAnterior Cumplimiento_Politica_Monto  Plazo  TasaInteres  \\\n",
       "0  Incremento_Menor_a_1000       Cumple Politica Monto   12.0        77.61   \n",
       "\n",
       "    Rango_Plazo Rango_Edad  montoprestado     saldo  Saldo_8_90  Saldo_30mas  \\\n",
       "0  9 a 12 meses      40-49       21045.15  12771.07    12771.07          0.0   \n",
       "\n",
       "   DiasAtraso  Max_Dias_Atraso  MontoPrestadoAnterior  Saldo_8_60  Mora  \n",
       "0          17               33               20789.92    12771.07     0  "
      ]
     },
     "execution_count": 52,
     "metadata": {},
     "output_type": "execute_result"
    }
   ],
   "source": [
    "# Mora es 1, cuando existe saldo mayor a 30\n",
    "data.head(1)"
   ]
  },
  {
   "cell_type": "markdown",
   "metadata": {},
   "source": [
    "#### Histograma de distribución "
   ]
  },
  {
   "cell_type": "code",
   "execution_count": 53,
   "metadata": {},
   "outputs": [
    {
     "data": {
      "text/plain": [
       "Text(0, 0.5, 'Si tiene mora = 1')"
      ]
     },
     "execution_count": 53,
     "metadata": {},
     "output_type": "execute_result"
    },
    {
     "data": {
      "image/png": "[encoded data removed]",
      "text/plain": [
       "<Figure size 432x288 with 1 Axes>"
      ]
     },
     "metadata": {
      "needs_background": "light"
     },
     "output_type": "display_data"
    }
   ],
   "source": [
    "plt.scatter(data.CicloPersonaCI, data.Mora, marker = '+', color= 'red')\n",
    "plt.title('Distribución de datos')\n",
    "plt.xlabel('Ciclo persona')\n",
    "plt.ylabel('Si tiene mora = 1')"
   ]
  },
  {
   "cell_type": "markdown",
   "metadata": {},
   "source": [
    "#### Agrupadores con operadores"
   ]
  },
  {
   "cell_type": "code",
   "execution_count": 54,
   "metadata": {},
   "outputs": [
    {
     "data": {
      "text/html": [
       "<div>\n",
       "<style scoped>\n",
       "    .dataframe tbody tr th:only-of-type {\n",
       "        vertical-align: middle;\n",
       "    }\n",
       "\n",
       "    .dataframe tbody tr th {\n",
       "        vertical-align: top;\n",
       "    }\n",
       "\n",
       "    .dataframe thead th {\n",
       "        text-align: right;\n",
       "    }\n",
       "</style>\n",
       "<table border=\"1\" class=\"dataframe\">\n",
       "  <thead>\n",
       "    <tr style=\"text-align: right;\">\n",
       "      <th></th>\n",
       "      <th>Id_Sucursal</th>\n",
       "      <th>Idpersona</th>\n",
       "      <th>IdOportunidad</th>\n",
       "      <th>Numero_Nomina_Actual</th>\n",
       "      <th>CicloPersonaCI</th>\n",
       "      <th>NoCuenta</th>\n",
       "      <th>Ano_Corte</th>\n",
       "      <th>Mes_Corte</th>\n",
       "      <th>DelMes</th>\n",
       "      <th>Plazo</th>\n",
       "      <th>TasaInteres</th>\n",
       "      <th>montoprestado</th>\n",
       "      <th>saldo</th>\n",
       "      <th>Saldo_8_90</th>\n",
       "      <th>Saldo_30mas</th>\n",
       "      <th>DiasAtraso</th>\n",
       "      <th>Max_Dias_Atraso</th>\n",
       "      <th>MontoPrestadoAnterior</th>\n",
       "      <th>Saldo_8_60</th>\n",
       "    </tr>\n",
       "    <tr>\n",
       "      <th>Mora</th>\n",
       "      <th></th>\n",
       "      <th></th>\n",
       "      <th></th>\n",
       "      <th></th>\n",
       "      <th></th>\n",
       "      <th></th>\n",
       "      <th></th>\n",
       "      <th></th>\n",
       "      <th></th>\n",
       "      <th></th>\n",
       "      <th></th>\n",
       "      <th></th>\n",
       "      <th></th>\n",
       "      <th></th>\n",
       "      <th></th>\n",
       "      <th></th>\n",
       "      <th></th>\n",
       "      <th></th>\n",
       "      <th></th>\n",
       "    </tr>\n",
       "  </thead>\n",
       "  <tbody>\n",
       "    <tr>\n",
       "      <th>0</th>\n",
       "      <td>2.475465e+06</td>\n",
       "      <td>4.311778e+07</td>\n",
       "      <td>1.803517e+07</td>\n",
       "      <td>54540.589109</td>\n",
       "      <td>3.243822</td>\n",
       "      <td>1.364684e+08</td>\n",
       "      <td>2018.0</td>\n",
       "      <td>12.0</td>\n",
       "      <td>0.095812</td>\n",
       "      <td>11.544120</td>\n",
       "      <td>73.823418</td>\n",
       "      <td>32691.128373</td>\n",
       "      <td>21896.809182</td>\n",
       "      <td>359.586998</td>\n",
       "      <td>0.00000</td>\n",
       "      <td>0.468002</td>\n",
       "      <td>2.272491</td>\n",
       "      <td>22610.125199</td>\n",
       "      <td>359.586998</td>\n",
       "    </tr>\n",
       "    <tr>\n",
       "      <th>1</th>\n",
       "      <td>2.645746e+06</td>\n",
       "      <td>4.912785e+07</td>\n",
       "      <td>1.513269e+07</td>\n",
       "      <td>20587.155414</td>\n",
       "      <td>2.254528</td>\n",
       "      <td>1.317989e+08</td>\n",
       "      <td>2018.0</td>\n",
       "      <td>12.0</td>\n",
       "      <td>0.000000</td>\n",
       "      <td>11.581596</td>\n",
       "      <td>77.349466</td>\n",
       "      <td>28792.893058</td>\n",
       "      <td>13646.879580</td>\n",
       "      <td>5255.288799</td>\n",
       "      <td>13646.87958</td>\n",
       "      <td>113.697483</td>\n",
       "      <td>113.424684</td>\n",
       "      <td>22080.263283</td>\n",
       "      <td>2712.263582</td>\n",
       "    </tr>\n",
       "  </tbody>\n",
       "</table>\n",
       "</div>"
      ],
      "text/plain": [
       "       Id_Sucursal     Idpersona  IdOportunidad  Numero_Nomina_Actual  \\\n",
       "Mora                                                                    \n",
       "0     2.475465e+06  4.311778e+07   1.803517e+07          54540.589109   \n",
       "1     2.645746e+06  4.912785e+07   1.513269e+07          20587.155414   \n",
       "\n",
       "      CicloPersonaCI      NoCuenta  Ano_Corte  Mes_Corte    DelMes      Plazo  \\\n",
       "Mora                                                                            \n",
       "0           3.243822  1.364684e+08     2018.0       12.0  0.095812  11.544120   \n",
       "1           2.254528  1.317989e+08     2018.0       12.0  0.000000  11.581596   \n",
       "\n",
       "      TasaInteres  montoprestado         saldo   Saldo_8_90  Saldo_30mas  \\\n",
       "Mora                                                                       \n",
       "0       73.823418   32691.128373  21896.809182   359.586998      0.00000   \n",
       "1       77.349466   28792.893058  13646.879580  5255.288799  13646.87958   \n",
       "\n",
       "      DiasAtraso  Max_Dias_Atraso  MontoPrestadoAnterior   Saldo_8_60  \n",
       "Mora                                                                   \n",
       "0       0.468002         2.272491           22610.125199   359.586998  \n",
       "1     113.697483       113.424684           22080.263283  2712.263582  "
      ]
     },
     "execution_count": 54,
     "metadata": {},
     "output_type": "execute_result"
    }
   ],
   "source": [
    "data.groupby('Mora').mean()"
   ]
  },
  {
   "cell_type": "markdown",
   "metadata": {},
   "source": [
    "Es más probable que caiga en mora, alguien que tuvo un préstamo promedio de $28,792"
   ]
  },
  {
   "cell_type": "markdown",
   "metadata": {},
   "source": [
    "### Probabilidad de que un cliente caiga en mora"
   ]
  },
  {
   "cell_type": "markdown",
   "metadata": {},
   "source": [
    "#### Contribución de clientes por mora (0 = sin mora, 1 = mora)"
   ]
  },
  {
   "cell_type": "code",
   "execution_count": 55,
   "metadata": {},
   "outputs": [
    {
     "data": {
      "text/plain": [
       "0    113743\n",
       "1     12753\n",
       "Name: Mora, dtype: int64"
      ]
     },
     "execution_count": 55,
     "metadata": {},
     "output_type": "execute_result"
    }
   ],
   "source": [
    "data['Mora'].value_counts()"
   ]
  },
  {
   "cell_type": "code",
   "execution_count": 56,
   "metadata": {},
   "outputs": [
    {
     "name": "stdout",
     "output_type": "stream",
     "text": [
      "11.2 %\n"
     ]
    }
   ],
   "source": [
    "prob = 12753 / 113743\n",
    "print(round((prob * 100),1),  '%')"
   ]
  },
  {
   "cell_type": "markdown",
   "metadata": {},
   "source": [
    "#### Agrupador por nivel de riesgo"
   ]
  },
  {
   "cell_type": "code",
   "execution_count": 57,
   "metadata": {},
   "outputs": [
    {
     "data": {
      "text/html": [
       "<div>\n",
       "<style scoped>\n",
       "    .dataframe tbody tr th:only-of-type {\n",
       "        vertical-align: middle;\n",
       "    }\n",
       "\n",
       "    .dataframe tbody tr th {\n",
       "        vertical-align: top;\n",
       "    }\n",
       "\n",
       "    .dataframe thead th {\n",
       "        text-align: right;\n",
       "    }\n",
       "</style>\n",
       "<table border=\"1\" class=\"dataframe\">\n",
       "  <thead>\n",
       "    <tr style=\"text-align: right;\">\n",
       "      <th></th>\n",
       "      <th>Id_Sucursal</th>\n",
       "      <th>Idpersona</th>\n",
       "      <th>IdOportunidad</th>\n",
       "      <th>Numero_Nomina_Actual</th>\n",
       "      <th>CicloPersonaCI</th>\n",
       "      <th>NoCuenta</th>\n",
       "      <th>Ano_Corte</th>\n",
       "      <th>Mes_Corte</th>\n",
       "      <th>DelMes</th>\n",
       "      <th>Plazo</th>\n",
       "      <th>TasaInteres</th>\n",
       "      <th>montoprestado</th>\n",
       "      <th>saldo</th>\n",
       "      <th>Saldo_8_90</th>\n",
       "      <th>Saldo_30mas</th>\n",
       "      <th>DiasAtraso</th>\n",
       "      <th>Max_Dias_Atraso</th>\n",
       "      <th>MontoPrestadoAnterior</th>\n",
       "      <th>Saldo_8_60</th>\n",
       "      <th>Mora</th>\n",
       "    </tr>\n",
       "    <tr>\n",
       "      <th>NivelDeRiesgo</th>\n",
       "      <th></th>\n",
       "      <th></th>\n",
       "      <th></th>\n",
       "      <th></th>\n",
       "      <th></th>\n",
       "      <th></th>\n",
       "      <th></th>\n",
       "      <th></th>\n",
       "      <th></th>\n",
       "      <th></th>\n",
       "      <th></th>\n",
       "      <th></th>\n",
       "      <th></th>\n",
       "      <th></th>\n",
       "      <th></th>\n",
       "      <th></th>\n",
       "      <th></th>\n",
       "      <th></th>\n",
       "      <th></th>\n",
       "      <th></th>\n",
       "    </tr>\n",
       "  </thead>\n",
       "  <tbody>\n",
       "    <tr>\n",
       "      <th>?</th>\n",
       "      <td>8.902124e+06</td>\n",
       "      <td>4.876786e+07</td>\n",
       "      <td>1.024094e+08</td>\n",
       "      <td>52749.166667</td>\n",
       "      <td>1.500000</td>\n",
       "      <td>1.328915e+08</td>\n",
       "      <td>2018.0</td>\n",
       "      <td>12.0</td>\n",
       "      <td>0.000000</td>\n",
       "      <td>11.950000</td>\n",
       "      <td>83.750000</td>\n",
       "      <td>21266.245833</td>\n",
       "      <td>7032.337500</td>\n",
       "      <td>1040.860833</td>\n",
       "      <td>2198.775000</td>\n",
       "      <td>17.000000</td>\n",
       "      <td>18.000000</td>\n",
       "      <td>20345.999083</td>\n",
       "      <td>0.000000</td>\n",
       "      <td>0.166667</td>\n",
       "    </tr>\n",
       "    <tr>\n",
       "      <th>Bueno</th>\n",
       "      <td>2.524928e+06</td>\n",
       "      <td>4.705484e+07</td>\n",
       "      <td>1.763811e+07</td>\n",
       "      <td>50909.564041</td>\n",
       "      <td>2.694508</td>\n",
       "      <td>1.359253e+08</td>\n",
       "      <td>2018.0</td>\n",
       "      <td>12.0</td>\n",
       "      <td>0.083726</td>\n",
       "      <td>11.535648</td>\n",
       "      <td>74.970128</td>\n",
       "      <td>30637.105741</td>\n",
       "      <td>19842.830638</td>\n",
       "      <td>920.413240</td>\n",
       "      <td>1545.060245</td>\n",
       "      <td>13.681606</td>\n",
       "      <td>15.291167</td>\n",
       "      <td>22473.446038</td>\n",
       "      <td>629.594872</td>\n",
       "      <td>0.116162</td>\n",
       "    </tr>\n",
       "    <tr>\n",
       "      <th>Excelente</th>\n",
       "      <td>2.410129e+06</td>\n",
       "      <td>4.044719e+07</td>\n",
       "      <td>1.819699e+07</td>\n",
       "      <td>51976.367926</td>\n",
       "      <td>3.630937</td>\n",
       "      <td>1.362717e+08</td>\n",
       "      <td>2018.0</td>\n",
       "      <td>12.0</td>\n",
       "      <td>0.093928</td>\n",
       "      <td>11.510238</td>\n",
       "      <td>72.834384</td>\n",
       "      <td>35550.294994</td>\n",
       "      <td>23651.348391</td>\n",
       "      <td>548.162237</td>\n",
       "      <td>872.964495</td>\n",
       "      <td>6.918367</td>\n",
       "      <td>7.954551</td>\n",
       "      <td>22671.072068</td>\n",
       "      <td>385.897372</td>\n",
       "      <td>0.058899</td>\n",
       "    </tr>\n",
       "    <tr>\n",
       "      <th>Malo</th>\n",
       "      <td>5.206132e+06</td>\n",
       "      <td>4.566258e+07</td>\n",
       "      <td>5.826287e+07</td>\n",
       "      <td>55511.625000</td>\n",
       "      <td>1.750000</td>\n",
       "      <td>1.354303e+08</td>\n",
       "      <td>2018.0</td>\n",
       "      <td>12.0</td>\n",
       "      <td>0.187500</td>\n",
       "      <td>10.587500</td>\n",
       "      <td>77.830000</td>\n",
       "      <td>29981.081250</td>\n",
       "      <td>16743.870625</td>\n",
       "      <td>112.646875</td>\n",
       "      <td>938.781250</td>\n",
       "      <td>17.812500</td>\n",
       "      <td>18.500000</td>\n",
       "      <td>25175.178125</td>\n",
       "      <td>0.000000</td>\n",
       "      <td>0.125000</td>\n",
       "    </tr>\n",
       "    <tr>\n",
       "      <th>Regular</th>\n",
       "      <td>2.601401e+06</td>\n",
       "      <td>4.400740e+07</td>\n",
       "      <td>1.686820e+07</td>\n",
       "      <td>49638.998275</td>\n",
       "      <td>3.008542</td>\n",
       "      <td>1.355421e+08</td>\n",
       "      <td>2018.0</td>\n",
       "      <td>12.0</td>\n",
       "      <td>0.073929</td>\n",
       "      <td>11.657923</td>\n",
       "      <td>75.496824</td>\n",
       "      <td>28569.967505</td>\n",
       "      <td>17896.926334</td>\n",
       "      <td>1389.867020</td>\n",
       "      <td>2137.474822</td>\n",
       "      <td>19.130312</td>\n",
       "      <td>21.937095</td>\n",
       "      <td>22475.153179</td>\n",
       "      <td>997.031042</td>\n",
       "      <td>0.161660</td>\n",
       "    </tr>\n",
       "    <tr>\n",
       "      <th>Sin Cálculo</th>\n",
       "      <td>1.190430e+07</td>\n",
       "      <td>5.973230e+06</td>\n",
       "      <td>1.029563e+08</td>\n",
       "      <td>73740.000000</td>\n",
       "      <td>4.250000</td>\n",
       "      <td>1.384438e+08</td>\n",
       "      <td>2018.0</td>\n",
       "      <td>12.0</td>\n",
       "      <td>0.250000</td>\n",
       "      <td>10.300000</td>\n",
       "      <td>70.000000</td>\n",
       "      <td>35464.892500</td>\n",
       "      <td>26287.590000</td>\n",
       "      <td>0.000000</td>\n",
       "      <td>0.000000</td>\n",
       "      <td>0.000000</td>\n",
       "      <td>1.750000</td>\n",
       "      <td>32992.915425</td>\n",
       "      <td>0.000000</td>\n",
       "      <td>0.000000</td>\n",
       "    </tr>\n",
       "  </tbody>\n",
       "</table>\n",
       "</div>"
      ],
      "text/plain": [
       "                Id_Sucursal     Idpersona  IdOportunidad  \\\n",
       "NivelDeRiesgo                                              \n",
       "?              8.902124e+06  4.876786e+07   1.024094e+08   \n",
       "Bueno          2.524928e+06  4.705484e+07   1.763811e+07   \n",
       "Excelente      2.410129e+06  4.044719e+07   1.819699e+07   \n",
       "Malo           5.206132e+06  4.566258e+07   5.826287e+07   \n",
       "Regular        2.601401e+06  4.400740e+07   1.686820e+07   \n",
       "Sin Cálculo    1.190430e+07  5.973230e+06   1.029563e+08   \n",
       "\n",
       "               Numero_Nomina_Actual  CicloPersonaCI      NoCuenta  Ano_Corte  \\\n",
       "NivelDeRiesgo                                                                  \n",
       "?                      52749.166667        1.500000  1.328915e+08     2018.0   \n",
       "Bueno                  50909.564041        2.694508  1.359253e+08     2018.0   \n",
       "Excelente              51976.367926        3.630937  1.362717e+08     2018.0   \n",
       "Malo                   55511.625000        1.750000  1.354303e+08     2018.0   \n",
       "Regular                49638.998275        3.008542  1.355421e+08     2018.0   \n",
       "Sin Cálculo            73740.000000        4.250000  1.384438e+08     2018.0   \n",
       "\n",
       "               Mes_Corte    DelMes      Plazo  TasaInteres  montoprestado  \\\n",
       "NivelDeRiesgo                                                               \n",
       "?                   12.0  0.000000  11.950000    83.750000   21266.245833   \n",
       "Bueno               12.0  0.083726  11.535648    74.970128   30637.105741   \n",
       "Excelente           12.0  0.093928  11.510238    72.834384   35550.294994   \n",
       "Malo                12.0  0.187500  10.587500    77.830000   29981.081250   \n",
       "Regular             12.0  0.073929  11.657923    75.496824   28569.967505   \n",
       "Sin Cálculo         12.0  0.250000  10.300000    70.000000   35464.892500   \n",
       "\n",
       "                      saldo   Saldo_8_90  Saldo_30mas  DiasAtraso  \\\n",
       "NivelDeRiesgo                                                       \n",
       "?               7032.337500  1040.860833  2198.775000   17.000000   \n",
       "Bueno          19842.830638   920.413240  1545.060245   13.681606   \n",
       "Excelente      23651.348391   548.162237   872.964495    6.918367   \n",
       "Malo           16743.870625   112.646875   938.781250   17.812500   \n",
       "Regular        17896.926334  1389.867020  2137.474822   19.130312   \n",
       "Sin Cálculo    26287.590000     0.000000     0.000000    0.000000   \n",
       "\n",
       "               Max_Dias_Atraso  MontoPrestadoAnterior  Saldo_8_60      Mora  \n",
       "NivelDeRiesgo                                                                \n",
       "?                    18.000000           20345.999083    0.000000  0.166667  \n",
       "Bueno                15.291167           22473.446038  629.594872  0.116162  \n",
       "Excelente             7.954551           22671.072068  385.897372  0.058899  \n",
       "Malo                 18.500000           25175.178125    0.000000  0.125000  \n",
       "Regular              21.937095           22475.153179  997.031042  0.161660  \n",
       "Sin Cálculo           1.750000           32992.915425    0.000000  0.000000  "
      ]
     },
     "execution_count": 57,
     "metadata": {},
     "output_type": "execute_result"
    }
   ],
   "source": [
    "data.groupby('NivelDeRiesgo').mean()"
   ]
  },
  {
   "cell_type": "markdown",
   "metadata": {},
   "source": [
    "#### Histograma de las edades"
   ]
  },
  {
   "cell_type": "code",
   "execution_count": 58,
   "metadata": {},
   "outputs": [
    {
     "data": {
      "text/plain": [
       "Text(0, 0.5, 'Clientes')"
      ]
     },
     "execution_count": 58,
     "metadata": {},
     "output_type": "execute_result"
    },
    {
     "data": {
      "image/png": "[encoded data removed]",
      "text/plain": [
       "<Figure size 432x288 with 1 Axes>"
      ]
     },
     "metadata": {
      "needs_background": "light"
     },
     "output_type": "display_data"
    }
   ],
   "source": [
    "# Histograma de las edades\n",
    "\n",
    "%matplotlib inline\n",
    "data.montoprestado.hist()\n",
    "plt.title(\"Histograma del monto prestado\")\n",
    "plt.xlabel(\"Monto\")\n",
    "plt.ylabel(\"Clientes\")"
   ]
  },
  {
   "cell_type": "markdown",
   "metadata": {},
   "source": [
    "#### Tipos de datos"
   ]
  },
  {
   "cell_type": "code",
   "execution_count": 59,
   "metadata": {},
   "outputs": [
    {
     "data": {
      "text/plain": [
       "fechaObservacion    object\n",
       "Id_Sucursal          int64\n",
       "Idpersona            int64\n",
       "IdOportunidad        int64\n",
       "OS                  object\n",
       "dtype: object"
      ]
     },
     "execution_count": 59,
     "metadata": {},
     "output_type": "execute_result"
    }
   ],
   "source": [
    "data.dtypes.head()"
   ]
  },
  {
   "cell_type": "markdown",
   "metadata": {},
   "source": [
    "#### Columnas del dataset original"
   ]
  },
  {
   "cell_type": "code",
   "execution_count": 60,
   "metadata": {},
   "outputs": [
    {
     "data": {
      "text/plain": [
       "Index(['fechaObservacion', 'Id_Sucursal', 'Idpersona', 'IdOportunidad', 'OS',\n",
       "       'Numero_Nomina_Actual', 'CicloPersonaCI', 'FechaInicio', 'NoCuenta',\n",
       "       'FechaCreacionOportunidad', 'Frecuencia_Pago', 'Tiene_Credianticipo',\n",
       "       'producto', 'NivelDeRiesgo', 'TipoSolicitante', 'Ano_Corte',\n",
       "       'Mes_Corte', 'DelMes', 'Clase', 'Tiene_Aval', 'Requiere_Aval',\n",
       "       'Cumplimiento_Politica_Aval', 'Rango_Monto_Actual',\n",
       "       'Incremento_MontoAnterior', 'Cumplimiento_Politica_Monto', 'Plazo',\n",
       "       'TasaInteres', 'Rango_Plazo', 'Rango_Edad', 'montoprestado', 'saldo',\n",
       "       'Saldo_8_90', 'Saldo_30mas', 'DiasAtraso', 'Max_Dias_Atraso',\n",
       "       'MontoPrestadoAnterior', 'Saldo_8_60', 'Mora'],\n",
       "      dtype='object')"
      ]
     },
     "execution_count": 60,
     "metadata": {},
     "output_type": "execute_result"
    }
   ],
   "source": [
    "data.columns"
   ]
  },
  {
   "cell_type": "markdown",
   "metadata": {},
   "source": [
    "#### Selección de algunas variables para la prueba"
   ]
  },
  {
   "cell_type": "code",
   "execution_count": 61,
   "metadata": {},
   "outputs": [],
   "source": [
    "data_s = data[['Id_Sucursal', 'NivelDeRiesgo', 'Tiene_Aval','Clase', 'montoprestado', \n",
    "               'Frecuencia_Pago','TasaInteres','Mora']]"
   ]
  },
  {
   "cell_type": "code",
   "execution_count": 62,
   "metadata": {},
   "outputs": [
    {
     "data": {
      "text/plain": [
       "Index(['Id_Sucursal', 'NivelDeRiesgo', 'Tiene_Aval', 'Clase', 'montoprestado',\n",
       "       'Frecuencia_Pago', 'TasaInteres', 'Mora'],\n",
       "      dtype='object')"
      ]
     },
     "execution_count": 62,
     "metadata": {},
     "output_type": "execute_result"
    }
   ],
   "source": [
    "data_s.columns"
   ]
  },
  {
   "cell_type": "markdown",
   "metadata": {},
   "source": [
    "## Construcción de variables dummy"
   ]
  },
  {
   "cell_type": "code",
   "execution_count": 63,
   "metadata": {},
   "outputs": [],
   "source": [
    "cat_vars=[ 'NivelDeRiesgo', 'Tiene_Aval', 'Clase', 'Frecuencia_Pago']\n",
    "for var in cat_vars:\n",
    "    cat_list='var'+'_'+var\n",
    "    cat_list = pd.get_dummies(data_s[var], prefix=var)\n",
    "    data1=data_s.join(cat_list) \n",
    "    data_s = data1"
   ]
  },
  {
   "cell_type": "markdown",
   "metadata": {},
   "source": [
    "#### Dataset incluyendo las variables dummy"
   ]
  },
  {
   "cell_type": "code",
   "execution_count": 64,
   "metadata": {},
   "outputs": [
    {
     "data": {
      "text/html": [
       "<div>\n",
       "<style scoped>\n",
       "    .dataframe tbody tr th:only-of-type {\n",
       "        vertical-align: middle;\n",
       "    }\n",
       "\n",
       "    .dataframe tbody tr th {\n",
       "        vertical-align: top;\n",
       "    }\n",
       "\n",
       "    .dataframe thead th {\n",
       "        text-align: right;\n",
       "    }\n",
       "</style>\n",
       "<table border=\"1\" class=\"dataframe\">\n",
       "  <thead>\n",
       "    <tr style=\"text-align: right;\">\n",
       "      <th></th>\n",
       "      <th>Id_Sucursal</th>\n",
       "      <th>NivelDeRiesgo</th>\n",
       "      <th>Tiene_Aval</th>\n",
       "      <th>Clase</th>\n",
       "      <th>montoprestado</th>\n",
       "      <th>Frecuencia_Pago</th>\n",
       "      <th>TasaInteres</th>\n",
       "      <th>Mora</th>\n",
       "      <th>NivelDeRiesgo_?</th>\n",
       "      <th>NivelDeRiesgo_Bueno</th>\n",
       "      <th>NivelDeRiesgo_Excelente</th>\n",
       "      <th>NivelDeRiesgo_Malo</th>\n",
       "      <th>NivelDeRiesgo_Regular</th>\n",
       "      <th>NivelDeRiesgo_Sin Cálculo</th>\n",
       "      <th>Tiene_Aval_NO</th>\n",
       "      <th>Tiene_Aval_SI</th>\n",
       "      <th>Clase_Nuevo</th>\n",
       "      <th>Clase_Subsecuente</th>\n",
       "      <th>Frecuencia_Pago_Bisemanal</th>\n",
       "      <th>Frecuencia_Pago_Mensual</th>\n",
       "    </tr>\n",
       "  </thead>\n",
       "  <tbody>\n",
       "    <tr>\n",
       "      <th>0</th>\n",
       "      <td>3</td>\n",
       "      <td>Excelente</td>\n",
       "      <td>SI</td>\n",
       "      <td>Subsecuente</td>\n",
       "      <td>21045.15</td>\n",
       "      <td>Mensual</td>\n",
       "      <td>77.61</td>\n",
       "      <td>0</td>\n",
       "      <td>0</td>\n",
       "      <td>0</td>\n",
       "      <td>1</td>\n",
       "      <td>0</td>\n",
       "      <td>0</td>\n",
       "      <td>0</td>\n",
       "      <td>0</td>\n",
       "      <td>1</td>\n",
       "      <td>0</td>\n",
       "      <td>1</td>\n",
       "      <td>0</td>\n",
       "      <td>1</td>\n",
       "    </tr>\n",
       "    <tr>\n",
       "      <th>1</th>\n",
       "      <td>3</td>\n",
       "      <td>Excelente</td>\n",
       "      <td>SI</td>\n",
       "      <td>Nuevo</td>\n",
       "      <td>21045.15</td>\n",
       "      <td>Mensual</td>\n",
       "      <td>77.61</td>\n",
       "      <td>0</td>\n",
       "      <td>0</td>\n",
       "      <td>0</td>\n",
       "      <td>1</td>\n",
       "      <td>0</td>\n",
       "      <td>0</td>\n",
       "      <td>0</td>\n",
       "      <td>0</td>\n",
       "      <td>1</td>\n",
       "      <td>1</td>\n",
       "      <td>0</td>\n",
       "      <td>0</td>\n",
       "      <td>1</td>\n",
       "    </tr>\n",
       "    <tr>\n",
       "      <th>2</th>\n",
       "      <td>3</td>\n",
       "      <td>Bueno</td>\n",
       "      <td>SI</td>\n",
       "      <td>Subsecuente</td>\n",
       "      <td>25595.88</td>\n",
       "      <td>Mensual</td>\n",
       "      <td>72.56</td>\n",
       "      <td>0</td>\n",
       "      <td>0</td>\n",
       "      <td>1</td>\n",
       "      <td>0</td>\n",
       "      <td>0</td>\n",
       "      <td>0</td>\n",
       "      <td>0</td>\n",
       "      <td>0</td>\n",
       "      <td>1</td>\n",
       "      <td>0</td>\n",
       "      <td>1</td>\n",
       "      <td>0</td>\n",
       "      <td>1</td>\n",
       "    </tr>\n",
       "    <tr>\n",
       "      <th>3</th>\n",
       "      <td>3</td>\n",
       "      <td>Bueno</td>\n",
       "      <td>NO</td>\n",
       "      <td>Nuevo</td>\n",
       "      <td>10698.65</td>\n",
       "      <td>Mensual</td>\n",
       "      <td>110.58</td>\n",
       "      <td>0</td>\n",
       "      <td>0</td>\n",
       "      <td>1</td>\n",
       "      <td>0</td>\n",
       "      <td>0</td>\n",
       "      <td>0</td>\n",
       "      <td>0</td>\n",
       "      <td>1</td>\n",
       "      <td>0</td>\n",
       "      <td>1</td>\n",
       "      <td>0</td>\n",
       "      <td>0</td>\n",
       "      <td>1</td>\n",
       "    </tr>\n",
       "    <tr>\n",
       "      <th>4</th>\n",
       "      <td>3</td>\n",
       "      <td>Regular</td>\n",
       "      <td>SI</td>\n",
       "      <td>Subsecuente</td>\n",
       "      <td>60009.38</td>\n",
       "      <td>Mensual</td>\n",
       "      <td>64.04</td>\n",
       "      <td>0</td>\n",
       "      <td>0</td>\n",
       "      <td>0</td>\n",
       "      <td>0</td>\n",
       "      <td>0</td>\n",
       "      <td>1</td>\n",
       "      <td>0</td>\n",
       "      <td>0</td>\n",
       "      <td>1</td>\n",
       "      <td>0</td>\n",
       "      <td>1</td>\n",
       "      <td>0</td>\n",
       "      <td>1</td>\n",
       "    </tr>\n",
       "  </tbody>\n",
       "</table>\n",
       "</div>"
      ],
      "text/plain": [
       "   Id_Sucursal NivelDeRiesgo Tiene_Aval        Clase  montoprestado  \\\n",
       "0            3     Excelente         SI  Subsecuente       21045.15   \n",
       "1            3     Excelente         SI        Nuevo       21045.15   \n",
       "2            3         Bueno         SI  Subsecuente       25595.88   \n",
       "3            3         Bueno         NO        Nuevo       10698.65   \n",
       "4            3       Regular         SI  Subsecuente       60009.38   \n",
       "\n",
       "  Frecuencia_Pago  TasaInteres  Mora  NivelDeRiesgo_?  NivelDeRiesgo_Bueno  \\\n",
       "0         Mensual        77.61     0                0                    0   \n",
       "1         Mensual        77.61     0                0                    0   \n",
       "2         Mensual        72.56     0                0                    1   \n",
       "3         Mensual       110.58     0                0                    1   \n",
       "4         Mensual        64.04     0                0                    0   \n",
       "\n",
       "   NivelDeRiesgo_Excelente  NivelDeRiesgo_Malo  NivelDeRiesgo_Regular  \\\n",
       "0                        1                   0                      0   \n",
       "1                        1                   0                      0   \n",
       "2                        0                   0                      0   \n",
       "3                        0                   0                      0   \n",
       "4                        0                   0                      1   \n",
       "\n",
       "   NivelDeRiesgo_Sin Cálculo  Tiene_Aval_NO  Tiene_Aval_SI  Clase_Nuevo  \\\n",
       "0                          0              0              1            0   \n",
       "1                          0              0              1            1   \n",
       "2                          0              0              1            0   \n",
       "3                          0              1              0            1   \n",
       "4                          0              0              1            0   \n",
       "\n",
       "   Clase_Subsecuente  Frecuencia_Pago_Bisemanal  Frecuencia_Pago_Mensual  \n",
       "0                  1                          0                        1  \n",
       "1                  0                          0                        1  \n",
       "2                  1                          0                        1  \n",
       "3                  0                          0                        1  \n",
       "4                  1                          0                        1  "
      ]
     },
     "execution_count": 64,
     "metadata": {},
     "output_type": "execute_result"
    }
   ],
   "source": [
    "data_s.head()"
   ]
  },
  {
   "cell_type": "markdown",
   "metadata": {},
   "source": [
    "#### Eliminar las variables categóricas (se sustituyen por las dummy)"
   ]
  },
  {
   "cell_type": "code",
   "execution_count": 65,
   "metadata": {},
   "outputs": [],
   "source": [
    "cat_vars=[ 'NivelDeRiesgo', 'Tiene_Aval', 'Clase', 'Frecuencia_Pago']\n",
    "data_vars= data_s.columns.values.tolist()\n",
    "to_keep=[i for i in data_vars if i not in cat_vars]"
   ]
  },
  {
   "cell_type": "code",
   "execution_count": 66,
   "metadata": {
    "scrolled": true
   },
   "outputs": [
    {
     "name": "stdout",
     "output_type": "stream",
     "text": [
      "['Id_Sucursal' 'montoprestado' 'TasaInteres' 'Mora' 'NivelDeRiesgo_?'\n",
      " 'NivelDeRiesgo_Bueno' 'NivelDeRiesgo_Excelente' 'NivelDeRiesgo_Malo'\n",
      " 'NivelDeRiesgo_Regular' 'NivelDeRiesgo_Sin Cálculo' 'Tiene_Aval_NO'\n",
      " 'Tiene_Aval_SI' 'Clase_Nuevo' 'Clase_Subsecuente'\n",
      " 'Frecuencia_Pago_Bisemanal' 'Frecuencia_Pago_Mensual']\n",
      "16\n"
     ]
    }
   ],
   "source": [
    "# Our final data columns will be:\n",
    "data_final=data_s[to_keep]\n",
    "print(data_final.columns.values)\n",
    "print(len(data_final.columns.values))"
   ]
  },
  {
   "cell_type": "markdown",
   "metadata": {},
   "source": [
    "## Selección de rasgos para el modelo"
   ]
  },
  {
   "cell_type": "markdown",
   "metadata": {},
   "source": [
    "#### Importación de librerías"
   ]
  },
  {
   "cell_type": "code",
   "execution_count": 67,
   "metadata": {},
   "outputs": [],
   "source": [
    "from sklearn import datasets\n",
    "from sklearn.feature_selection import RFE\n",
    "from sklearn.linear_model import LogisticRegression"
   ]
  },
  {
   "cell_type": "markdown",
   "metadata": {},
   "source": [
    "#### Definir variables predictoras (X)  y variable a predecir (Y)"
   ]
  },
  {
   "cell_type": "code",
   "execution_count": 68,
   "metadata": {},
   "outputs": [],
   "source": [
    "use_data_vars = data_final.columns.values.tolist()\n",
    "\n",
    "Y = ['Mora']\n",
    "X = [v for v in use_data_vars if v not in Y]"
   ]
  },
  {
   "cell_type": "markdown",
   "metadata": {},
   "source": [
    "#### Definir cantidad de variables a utilizar para el modelo"
   ]
  },
  {
   "cell_type": "code",
   "execution_count": 69,
   "metadata": {},
   "outputs": [],
   "source": [
    "n = 10"
   ]
  },
  {
   "cell_type": "markdown",
   "metadata": {},
   "source": [
    "#### Ejecutar paquete de regresión logística"
   ]
  },
  {
   "cell_type": "code",
   "execution_count": 70,
   "metadata": {},
   "outputs": [],
   "source": [
    "lr = LogisticRegression(solver = 'lbfgs')"
   ]
  },
  {
   "cell_type": "markdown",
   "metadata": {},
   "source": [
    "#### Correr regresión logística"
   ]
  },
  {
   "cell_type": "code",
   "execution_count": 71,
   "metadata": {},
   "outputs": [],
   "source": [
    "rfe = RFE(lr, n)\n",
    "rfe = rfe.fit(data_final[X], data_final[Y].values.ravel())"
   ]
  },
  {
   "cell_type": "markdown",
   "metadata": {},
   "source": [
    "#### Identificar variables recomendadas por el modelo (usar True)"
   ]
  },
  {
   "cell_type": "code",
   "execution_count": 72,
   "metadata": {},
   "outputs": [
    {
     "name": "stdout",
     "output_type": "stream",
     "text": [
      "[ True  True  True False  True  True False False False  True  True  True\n",
      "  True False  True]\n"
     ]
    }
   ],
   "source": [
    "print(rfe.support_)"
   ]
  },
  {
   "cell_type": "markdown",
   "metadata": {},
   "source": [
    "#### Ranking de variables predictoras [las mejores son las 1, empeoran a medida que se alejan]"
   ]
  },
  {
   "cell_type": "code",
   "execution_count": 73,
   "metadata": {},
   "outputs": [
    {
     "name": "stdout",
     "output_type": "stream",
     "text": [
      "[1 1 1 5 1 1 4 2 6 1 1 1 1 3 1]\n"
     ]
    }
   ],
   "source": [
    "print(rfe.ranking_)"
   ]
  },
  {
   "cell_type": "markdown",
   "metadata": {},
   "source": [
    "#### Listar variables predictoras (combinar con ranking y soporte)"
   ]
  },
  {
   "cell_type": "code",
   "execution_count": 74,
   "metadata": {},
   "outputs": [
    {
     "data": {
      "text/plain": [
       "[('Id_Sucursal', True, 1),\n",
       " ('montoprestado', True, 1),\n",
       " ('TasaInteres', True, 1),\n",
       " ('Mora', False, 5),\n",
       " ('NivelDeRiesgo_?', True, 1),\n",
       " ('NivelDeRiesgo_Bueno', True, 1),\n",
       " ('NivelDeRiesgo_Excelente', False, 4),\n",
       " ('NivelDeRiesgo_Malo', False, 2),\n",
       " ('NivelDeRiesgo_Regular', False, 6),\n",
       " ('NivelDeRiesgo_Sin Cálculo', True, 1),\n",
       " ('Tiene_Aval_NO', True, 1),\n",
       " ('Tiene_Aval_SI', True, 1),\n",
       " ('Clase_Nuevo', True, 1),\n",
       " ('Clase_Subsecuente', False, 3),\n",
       " ('Frecuencia_Pago_Bisemanal', True, 1)]"
      ]
     },
     "execution_count": 74,
     "metadata": {},
     "output_type": "execute_result"
    }
   ],
   "source": [
    "z=zip(data_final,rfe.support_, rfe.ranking_)\n",
    "list(z)"
   ]
  },
  {
   "cell_type": "markdown",
   "metadata": {},
   "source": [
    "#### Variables predictoras seleccionadas (cols)"
   ]
  },
  {
   "cell_type": "code",
   "execution_count": 75,
   "metadata": {},
   "outputs": [],
   "source": [
    "cols = ['Id_Sucursal', 'montoprestado', 'TasaInteres',\n",
    "        'NivelDeRiesgo_?', 'NivelDeRiesgo_Bueno', 'NivelDeRiesgo_Sin Cálculo', \n",
    "        'Tiene_Aval_NO', 'Tiene_Aval_SI','Clase_Nuevo',\n",
    "         'Frecuencia_Pago_Bisemanal']"
   ]
  },
  {
   "cell_type": "markdown",
   "metadata": {},
   "source": [
    "#### Variables finales para modelo"
   ]
  },
  {
   "cell_type": "code",
   "execution_count": 76,
   "metadata": {},
   "outputs": [],
   "source": [
    "X = data_final[cols]\n",
    "Y = data_final['Mora']"
   ]
  },
  {
   "cell_type": "markdown",
   "metadata": {},
   "source": [
    "## Implementación del modelo con statsmodel"
   ]
  },
  {
   "cell_type": "code",
   "execution_count": 77,
   "metadata": {},
   "outputs": [],
   "source": [
    "# Importación de la librería\n",
    "import statsmodels.api as sm"
   ]
  },
  {
   "cell_type": "code",
   "execution_count": 78,
   "metadata": {},
   "outputs": [
    {
     "name": "stdout",
     "output_type": "stream",
     "text": [
      "Optimization terminated successfully.\n",
      "         Current function value: 0.303384\n",
      "         Iterations 14\n"
     ]
    }
   ],
   "source": [
    "# Correr modelo para calcular parámetros\n",
    "logit_model = sm.Logit(Y, X)\n",
    "\n",
    "# Resultado de la ejecución del modelo\n",
    "result = logit_model.fit()"
   ]
  },
  {
   "cell_type": "markdown",
   "metadata": {},
   "source": [
    "#### Parámetros de la regresión logística"
   ]
  },
  {
   "cell_type": "markdown",
   "metadata": {},
   "source": [
    "Cuanto más pequeño es el P valor, las variables son mejores y más significativas (P<z|z|)\n",
    "\n",
    "* Las variables en las cuales el \"p-value\"  no sea menor a 0.05, deberán ser removidas."
   ]
  },
  {
   "cell_type": "code",
   "execution_count": 79,
   "metadata": {},
   "outputs": [
    {
     "data": {
      "text/html": [
       "<table class=\"simpletable\">\n",
       "<tr>\n",
       "        <td>Model:</td>              <td>Logit</td>      <td>Pseudo R-squared:</td>    <td>0.072</td>  \n",
       "</tr>\n",
       "<tr>\n",
       "  <td>Dependent Variable:</td>       <td>Mora</td>             <td>AIC:</td>        <td>76773.6231</td>\n",
       "</tr>\n",
       "<tr>\n",
       "         <td>Date:</td>        <td>2019-02-26 20:36</td>       <td>BIC:</td>        <td>76871.1028</td>\n",
       "</tr>\n",
       "<tr>\n",
       "   <td>No. Observations:</td>       <td>126496</td>       <td>Log-Likelihood:</td>    <td>-38377.</td> \n",
       "</tr>\n",
       "<tr>\n",
       "       <td>Df Model:</td>              <td>9</td>            <td>LL-Null:</td>        <td>-41348.</td> \n",
       "</tr>\n",
       "<tr>\n",
       "     <td>Df Residuals:</td>         <td>126486</td>        <td>LLR p-value:</td>      <td>0.0000</td>  \n",
       "</tr>\n",
       "<tr>\n",
       "      <td>Converged:</td>           <td>1.0000</td>           <td>Scale:</td>         <td>1.0000</td>  \n",
       "</tr>\n",
       "<tr>\n",
       "    <td>No. Iterations:</td>        <td>14.0000</td>             <td></td>               <td></td>     \n",
       "</tr>\n",
       "</table>\n",
       "<table class=\"simpletable\">\n",
       "<tr>\n",
       "              <td></td>                <th>Coef.</th>        <th>Std.Err.</th>           <th>z</th>     <th>P>|z|</th>         <th>[0.025</th>                <th>0.975]</th>        \n",
       "</tr>\n",
       "<tr>\n",
       "  <th>Id_Sucursal</th>                <td>0.0000</td>         <td>0.0000</td>         <td>2.2097</td>  <td>0.0271</td>         <td>0.0000</td>                <td>0.0000</td>        \n",
       "</tr>\n",
       "<tr>\n",
       "  <th>montoprestado</th>              <td>0.0000</td>         <td>0.0000</td>         <td>10.7862</td> <td>0.0000</td>         <td>0.0000</td>                <td>0.0000</td>        \n",
       "</tr>\n",
       "<tr>\n",
       "  <th>TasaInteres</th>                <td>0.0431</td>         <td>0.0013</td>         <td>33.0620</td> <td>0.0000</td>         <td>0.0406</td>                <td>0.0457</td>        \n",
       "</tr>\n",
       "<tr>\n",
       "  <th>NivelDeRiesgo_?</th>            <td>1.1244</td>         <td>0.7760</td>         <td>1.4489</td>  <td>0.1474</td>         <td>-0.3966</td>               <td>2.6453</td>        \n",
       "</tr>\n",
       "<tr>\n",
       "  <th>NivelDeRiesgo_Bueno</th>        <td>0.1759</td>         <td>0.0197</td>         <td>8.9175</td>  <td>0.0000</td>         <td>0.1372</td>                <td>0.2146</td>        \n",
       "</tr>\n",
       "<tr>\n",
       "  <th>NivelDeRiesgo_Sin Cálculo</th> <td>-67.1924</td> <td>750303382612747.7500</td>  <td>-0.0000</td> <td>1.0000</td> <td>-1470567607399629.0000</td> <td>1470567607399494.5000</td>\n",
       "</tr>\n",
       "<tr>\n",
       "  <th>Tiene_Aval_NO</th>              <td>-6.8290</td>        <td>0.1111</td>        <td>-61.4469</td> <td>0.0000</td>         <td>-7.0468</td>               <td>-6.6111</td>       \n",
       "</tr>\n",
       "<tr>\n",
       "  <th>Tiene_Aval_SI</th>              <td>-5.4990</td>        <td>0.1092</td>        <td>-50.3482</td> <td>0.0000</td>         <td>-5.7130</td>               <td>-5.2849</td>       \n",
       "</tr>\n",
       "<tr>\n",
       "  <th>Clase_Nuevo</th>                <td>0.3355</td>         <td>0.0213</td>         <td>15.7789</td> <td>0.0000</td>         <td>0.2939</td>                <td>0.3772</td>        \n",
       "</tr>\n",
       "<tr>\n",
       "  <th>Frecuencia_Pago_Bisemanal</th>  <td>-0.2926</td>        <td>0.0574</td>         <td>-5.0962</td> <td>0.0000</td>         <td>-0.4052</td>               <td>-0.1801</td>       \n",
       "</tr>\n",
       "</table>"
      ],
      "text/plain": [
       "<class 'statsmodels.iolib.summary2.Summary'>\n",
       "\"\"\"\n",
       "                                                   Results: Logit\n",
       "====================================================================================================================\n",
       "Model:                               Logit                             Pseudo R-squared:                  0.072     \n",
       "Dependent Variable:                  Mora                              AIC:                               76773.6231\n",
       "Date:                                2019-02-26 20:36                  BIC:                               76871.1028\n",
       "No. Observations:                    126496                            Log-Likelihood:                    -38377.   \n",
       "Df Model:                            9                                 LL-Null:                           -41348.   \n",
       "Df Residuals:                        126486                            LLR p-value:                       0.0000    \n",
       "Converged:                           1.0000                            Scale:                             1.0000    \n",
       "No. Iterations:                      14.0000                                                                        \n",
       "--------------------------------------------------------------------------------------------------------------------\n",
       "                           Coef.         Std.Err.          z     P>|z|          [0.025                 0.975]       \n",
       "--------------------------------------------------------------------------------------------------------------------\n",
       "Id_Sucursal                 0.0000               0.0000   2.2097 0.0271                 0.0000                0.0000\n",
       "montoprestado               0.0000               0.0000  10.7862 0.0000                 0.0000                0.0000\n",
       "TasaInteres                 0.0431               0.0013  33.0620 0.0000                 0.0406                0.0457\n",
       "NivelDeRiesgo_?             1.1244               0.7760   1.4489 0.1474                -0.3966                2.6453\n",
       "NivelDeRiesgo_Bueno         0.1759               0.0197   8.9175 0.0000                 0.1372                0.2146\n",
       "NivelDeRiesgo_Sin Cálculo -67.1924 750303382612747.7500  -0.0000 1.0000 -1470567607399629.0000 1470567607399494.5000\n",
       "Tiene_Aval_NO              -6.8290               0.1111 -61.4469 0.0000                -7.0468               -6.6111\n",
       "Tiene_Aval_SI              -5.4990               0.1092 -50.3482 0.0000                -5.7130               -5.2849\n",
       "Clase_Nuevo                 0.3355               0.0213  15.7789 0.0000                 0.2939                0.3772\n",
       "Frecuencia_Pago_Bisemanal  -0.2926               0.0574  -5.0962 0.0000                -0.4052               -0.1801\n",
       "====================================================================================================================\n",
       "\n",
       "\"\"\""
      ]
     },
     "execution_count": 79,
     "metadata": {},
     "output_type": "execute_result"
    }
   ],
   "source": [
    "result.summary2()"
   ]
  },
  {
   "cell_type": "markdown",
   "metadata": {},
   "source": [
    "#### Eliminación de variables en las que el \"P-valor\" es menor a 0.05"
   ]
  },
  {
   "cell_type": "code",
   "execution_count": 80,
   "metadata": {},
   "outputs": [
    {
     "data": {
      "text/plain": [
       "Index(['Id_Sucursal', 'montoprestado', 'TasaInteres', 'NivelDeRiesgo_?',\n",
       "       'NivelDeRiesgo_Bueno', 'NivelDeRiesgo_Sin Cálculo', 'Tiene_Aval_NO',\n",
       "       'Tiene_Aval_SI', 'Clase_Nuevo', 'Frecuencia_Pago_Bisemanal'],\n",
       "      dtype='object')"
      ]
     },
     "execution_count": 80,
     "metadata": {},
     "output_type": "execute_result"
    }
   ],
   "source": [
    "X.columns"
   ]
  },
  {
   "cell_type": "markdown",
   "metadata": {},
   "source": [
    "## Modelo logístico ajustado"
   ]
  },
  {
   "cell_type": "code",
   "execution_count": 81,
   "metadata": {},
   "outputs": [
    {
     "name": "stdout",
     "output_type": "stream",
     "text": [
      "Optimization terminated successfully.\n",
      "         Current function value: 0.303392\n",
      "         Iterations 7\n",
      "                              Results: Logit\n",
      "==========================================================================\n",
      "Model:                 Logit               Pseudo R-squared:    0.072     \n",
      "Dependent Variable:    Mora                AIC:                 76771.7692\n",
      "Date:                  2019-02-26 20:36    BIC:                 76849.7529\n",
      "No. Observations:      126496              Log-Likelihood:      -38378.   \n",
      "Df Model:              7                   LL-Null:             -41348.   \n",
      "Df Residuals:          126488              LLR p-value:         0.0000    \n",
      "Converged:             1.0000              Scale:               1.0000    \n",
      "No. Iterations:        7.0000                                             \n",
      "--------------------------------------------------------------------------\n",
      "                           Coef.  Std.Err.    z     P>|z|   [0.025  0.975]\n",
      "--------------------------------------------------------------------------\n",
      "Id_Sucursal                0.0000   0.0000   2.2204 0.0264  0.0000  0.0000\n",
      "montoprestado              0.0000   0.0000  10.7888 0.0000  0.0000  0.0000\n",
      "TasaInteres                0.0432   0.0013  33.0714 0.0000  0.0406  0.0457\n",
      "NivelDeRiesgo_Bueno        0.1756   0.0197   8.9053 0.0000  0.1370  0.2143\n",
      "Tiene_Aval_NO             -6.8290   0.1111 -61.4519 0.0000 -7.0468 -6.6112\n",
      "Tiene_Aval_SI             -5.4998   0.1092 -50.3596 0.0000 -5.7139 -5.2858\n",
      "Clase_Nuevo                0.3359   0.0213  15.7955 0.0000  0.2942  0.3775\n",
      "Frecuencia_Pago_Bisemanal -0.2928   0.0574  -5.0987 0.0000 -0.4053 -0.1802\n",
      "==========================================================================\n",
      "\n"
     ]
    }
   ],
   "source": [
    "# Selección de variables significativas\n",
    "\n",
    "cols=['Id_Sucursal', 'montoprestado', 'TasaInteres',\n",
    "       'NivelDeRiesgo_Bueno','Tiene_Aval_NO',\n",
    "       'Tiene_Aval_SI', 'Clase_Nuevo', 'Frecuencia_Pago_Bisemanal'] \n",
    "\n",
    "# Construcción del nuevo data set con las variables más significativas\n",
    "X=data_final[cols]\n",
    "y=data_final['Mora']\n",
    "\n",
    "# Correr el modelo logístico\n",
    "logit_model=sm.Logit(y,X)\n",
    "result=logit_model.fit()\n",
    "print(result.summary2())"
   ]
  },
  {
   "cell_type": "markdown",
   "metadata": {},
   "source": [
    "## Logistic Regression Model Fitting"
   ]
  },
  {
   "cell_type": "code",
   "execution_count": 85,
   "metadata": {},
   "outputs": [],
   "source": [
    "from sklearn.linear_model import LogisticRegression\n",
    "from sklearn import metrics\n",
    "from sklearn.model_selection import train_test_split"
   ]
  },
  {
   "cell_type": "code",
   "execution_count": 102,
   "metadata": {},
   "outputs": [
    {
     "data": {
      "text/plain": [
       "LogisticRegression(C=1.0, class_weight=None, dual=False, fit_intercept=True,\n",
       "          intercept_scaling=1, max_iter=100, multi_class='warn',\n",
       "          n_jobs=None, penalty='l2', random_state=None, solver='lbfgs',\n",
       "          tol=0.0001, verbose=0, warm_start=False)"
      ]
     },
     "execution_count": 102,
     "metadata": {},
     "output_type": "execute_result"
    }
   ],
   "source": [
    "# Definir tamaño del set de entrenamiento y del set test (para este caso se usa 0.4 para el test)\n",
    "\n",
    "X_train, X_test, y_train, y_test = train_test_split(X, y, test_size=0.4, random_state=0)\n",
    "logreg = LogisticRegression(solver = 'lbfgs')\n",
    "logreg.fit(X_train, y_train)"
   ]
  },
  {
   "cell_type": "code",
   "execution_count": 104,
   "metadata": {},
   "outputs": [
    {
     "name": "stdout",
     "output_type": "stream",
     "text": [
      "Precisión de la regresión logística (r cuadrada) en el \"test set\": 0.90\n"
     ]
    }
   ],
   "source": [
    "# Bondad de ajuste de r cuadrada\n",
    "y_pred = logreg.predict(X_test)\n",
    "print('Precisión de la regresión logística (r cuadrada) en el \"test set\": {:.2f}'.format(logreg.score(X_test, y_test)))"
   ]
  },
  {
   "cell_type": "code",
   "execution_count": 105,
   "metadata": {},
   "outputs": [
    {
     "data": {
      "text/plain": [
       "0.8991825828484695"
      ]
     },
     "execution_count": 105,
     "metadata": {},
     "output_type": "execute_result"
    }
   ],
   "source": [
    "# Validación (solo restar a 1, la media de Y - variable a predecir)\n",
    "1-Y.mean()"
   ]
  },
  {
   "cell_type": "markdown",
   "metadata": {},
   "source": [
    "### Cálculo de coeficientes para modelo"
   ]
  },
  {
   "cell_type": "code",
   "execution_count": 109,
   "metadata": {},
   "outputs": [
    {
     "data": {
      "text/plain": [
       "array([[-1.56412786e-08, -7.17691858e-05, -1.58641815e-07,\n",
       "        -8.12106956e-10, -9.82595011e-10, -1.18752364e-09,\n",
       "        -5.40647761e-10, -1.07045155e-10]])"
      ]
     },
     "execution_count": 109,
     "metadata": {},
     "output_type": "execute_result"
    }
   ],
   "source": [
    "logreg.coef_"
   ]
  },
  {
   "cell_type": "code",
   "execution_count": 113,
   "metadata": {},
   "outputs": [
    {
     "data": {
      "text/html": [
       "<div>\n",
       "<style scoped>\n",
       "    .dataframe tbody tr th:only-of-type {\n",
       "        vertical-align: middle;\n",
       "    }\n",
       "\n",
       "    .dataframe tbody tr th {\n",
       "        vertical-align: top;\n",
       "    }\n",
       "\n",
       "    .dataframe thead th {\n",
       "        text-align: right;\n",
       "    }\n",
       "</style>\n",
       "<table border=\"1\" class=\"dataframe\">\n",
       "  <thead>\n",
       "    <tr style=\"text-align: right;\">\n",
       "      <th></th>\n",
       "      <th>Variable_pred</th>\n",
       "      <th>Coeficiente</th>\n",
       "    </tr>\n",
       "  </thead>\n",
       "  <tbody>\n",
       "    <tr>\n",
       "      <th>0</th>\n",
       "      <td>Id_Sucursal</td>\n",
       "      <td>[-1.5641278574033874e-08]</td>\n",
       "    </tr>\n",
       "    <tr>\n",
       "      <th>1</th>\n",
       "      <td>montoprestado</td>\n",
       "      <td>[-7.17691858221627e-05]</td>\n",
       "    </tr>\n",
       "    <tr>\n",
       "      <th>2</th>\n",
       "      <td>TasaInteres</td>\n",
       "      <td>[-1.5864181483780316e-07]</td>\n",
       "    </tr>\n",
       "    <tr>\n",
       "      <th>3</th>\n",
       "      <td>NivelDeRiesgo_Bueno</td>\n",
       "      <td>[-8.121069559834904e-10]</td>\n",
       "    </tr>\n",
       "    <tr>\n",
       "      <th>4</th>\n",
       "      <td>Tiene_Aval_NO</td>\n",
       "      <td>[-9.825950114902494e-10]</td>\n",
       "    </tr>\n",
       "    <tr>\n",
       "      <th>5</th>\n",
       "      <td>Tiene_Aval_SI</td>\n",
       "      <td>[-1.1875236355357535e-09]</td>\n",
       "    </tr>\n",
       "    <tr>\n",
       "      <th>6</th>\n",
       "      <td>Clase_Nuevo</td>\n",
       "      <td>[-5.406477614876803e-10]</td>\n",
       "    </tr>\n",
       "    <tr>\n",
       "      <th>7</th>\n",
       "      <td>Frecuencia_Pago_Bisemanal</td>\n",
       "      <td>[-1.0704515472409633e-10]</td>\n",
       "    </tr>\n",
       "  </tbody>\n",
       "</table>\n",
       "</div>"
      ],
      "text/plain": [
       "               Variable_pred                Coeficiente\n",
       "0                Id_Sucursal  [-1.5641278574033874e-08]\n",
       "1              montoprestado    [-7.17691858221627e-05]\n",
       "2                TasaInteres  [-1.5864181483780316e-07]\n",
       "3        NivelDeRiesgo_Bueno   [-8.121069559834904e-10]\n",
       "4              Tiene_Aval_NO   [-9.825950114902494e-10]\n",
       "5              Tiene_Aval_SI  [-1.1875236355357535e-09]\n",
       "6                Clase_Nuevo   [-5.406477614876803e-10]\n",
       "7  Frecuencia_Pago_Bisemanal  [-1.0704515472409633e-10]"
      ]
     },
     "execution_count": 113,
     "metadata": {},
     "output_type": "execute_result"
    }
   ],
   "source": [
    "pd.DataFrame(list(zip(X.columns, np.transpose(logreg.coef_))), columns = ['Variable_pred','Coeficiente'])"
   ]
  },
  {
   "cell_type": "code",
   "execution_count": 137,
   "metadata": {},
   "outputs": [
    {
     "data": {
      "text/plain": [
       "-0.9330042715350342"
      ]
     },
     "execution_count": 137,
     "metadata": {},
     "output_type": "execute_result"
    }
   ],
   "source": [
    "probabilidad =  ((-1.5641278574033874e-08)    * (1)      +         # Id_Sucursal\n",
    "                (-7.17691858221627e-05)      * (13000)    +         # Monto prestado\n",
    "                (-1.5864181483780316e-07)    * (30.5)     +          # Tasa interés\n",
    "                (-8.121069559834904e-10)     *  (0)       +           # Nivel de riesgo\n",
    "                (-9.825950114902494e-10)     *  (1)       +           # No Aval\n",
    "                (-1.1875236355357535e-09)    *  (0)       +           # Si Aval\n",
    "                (-5.406477614876803e-10)     *  (1)       +           # Cliente nuevo\n",
    "                (-1.0704515472409633e-10)    *  (1) )                  # Pago bisemanal\n",
    "\n",
    "probabilidad"
   ]
  },
  {
   "cell_type": "code",
   "execution_count": 138,
   "metadata": {},
   "outputs": [
    {
     "data": {
      "text/latex": [
       "$$Y_p=\\begin{cases}0& si\\ p\\leq0.5\\\\1&si\\ p >0.5\\end{cases}$$"
      ],
      "text/plain": [
       "<IPython.core.display.Math object>"
      ]
     },
     "metadata": {},
     "output_type": "display_data"
    }
   ],
   "source": [
    "from IPython.display import display, Math, Latex\n",
    "display(Math(r'Y_p=\\begin{cases}0& si\\ p\\leq0.5\\\\1&si\\ p >0.5\\end{cases}'))"
   ]
  },
  {
   "cell_type": "code",
   "execution_count": 139,
   "metadata": {},
   "outputs": [
    {
     "data": {
      "text/plain": [
       "array([[0.9887367 , 0.0112633 ],\n",
       "       [0.90545111, 0.09454889],\n",
       "       [0.82122171, 0.17877829],\n",
       "       ...,\n",
       "       [0.92643081, 0.07356919],\n",
       "       [0.81421882, 0.18578118],\n",
       "       [0.99146383, 0.00853617]])"
      ]
     },
     "execution_count": 139,
     "metadata": {},
     "output_type": "execute_result"
    }
   ],
   "source": [
    "probs = logreg.predict_proba(X_test)\n",
    "probs"
   ]
  },
  {
   "cell_type": "code",
   "execution_count": 129,
   "metadata": {},
   "outputs": [
    {
     "data": {
      "text/plain": [
       "array([0, 0, 0, ..., 0, 0, 0], dtype=int64)"
      ]
     },
     "execution_count": 129,
     "metadata": {},
     "output_type": "execute_result"
    }
   ],
   "source": [
    "prediction = logreg.predict(X_test)\n",
    "prediction"
   ]
  },
  {
   "cell_type": "code",
   "execution_count": 131,
   "metadata": {},
   "outputs": [
    {
     "data": {
      "text/latex": [
       "$$\\varepsilon\\in (0,1), Y_p=\\begin{cases}0& si\\ p\\leq \\varepsilon\\\\1&si\\ p >\\varepsilon\\end{cases}$$"
      ],
      "text/plain": [
       "<IPython.core.display.Math object>"
      ]
     },
     "metadata": {},
     "output_type": "display_data"
    }
   ],
   "source": [
    "display(Math(r'\\varepsilon\\in (0,1), Y_p=\\begin{cases}0& si\\ p\\leq \\varepsilon\\\\1&si\\ p >\\varepsilon\\end{cases}'))"
   ]
  },
  {
   "cell_type": "code",
   "execution_count": 142,
   "metadata": {},
   "outputs": [
    {
     "data": {
      "text/html": [
       "<div>\n",
       "<style scoped>\n",
       "    .dataframe tbody tr th:only-of-type {\n",
       "        vertical-align: middle;\n",
       "    }\n",
       "\n",
       "    .dataframe tbody tr th {\n",
       "        vertical-align: top;\n",
       "    }\n",
       "\n",
       "    .dataframe thead th {\n",
       "        text-align: right;\n",
       "    }\n",
       "</style>\n",
       "<table border=\"1\" class=\"dataframe\">\n",
       "  <thead>\n",
       "    <tr style=\"text-align: right;\">\n",
       "      <th></th>\n",
       "      <th>0</th>\n",
       "      <th>prediction</th>\n",
       "    </tr>\n",
       "  </thead>\n",
       "  <tbody>\n",
       "    <tr>\n",
       "      <th>0</th>\n",
       "      <td>0.011263</td>\n",
       "      <td>0</td>\n",
       "    </tr>\n",
       "    <tr>\n",
       "      <th>1</th>\n",
       "      <td>0.094549</td>\n",
       "      <td>0</td>\n",
       "    </tr>\n",
       "    <tr>\n",
       "      <th>2</th>\n",
       "      <td>0.178778</td>\n",
       "      <td>1</td>\n",
       "    </tr>\n",
       "    <tr>\n",
       "      <th>3</th>\n",
       "      <td>0.192220</td>\n",
       "      <td>1</td>\n",
       "    </tr>\n",
       "    <tr>\n",
       "      <th>4</th>\n",
       "      <td>0.000018</td>\n",
       "      <td>0</td>\n",
       "    </tr>\n",
       "  </tbody>\n",
       "</table>\n",
       "</div>"
      ],
      "text/plain": [
       "          0  prediction\n",
       "0  0.011263           0\n",
       "1  0.094549           0\n",
       "2  0.178778           1\n",
       "3  0.192220           1\n",
       "4  0.000018           0"
      ]
     },
     "execution_count": 142,
     "metadata": {},
     "output_type": "execute_result"
    }
   ],
   "source": [
    "prob = probs[:,1]\n",
    "prob_df = pd.DataFrame(prob)\n",
    "threshold = 0.1     ## The threshold value determines whether a probability is assigned to true or false is typically set to 0.5.\n",
    "prob_df[\"prediction\"] = np.where(prob_df[0]>threshold, 1, 0)\n",
    "prob_df.head()"
   ]
  },
  {
   "cell_type": "code",
   "execution_count": 143,
   "metadata": {},
   "outputs": [
    {
     "data": {
      "text/html": [
       "<div>\n",
       "<style scoped>\n",
       "    .dataframe tbody tr th:only-of-type {\n",
       "        vertical-align: middle;\n",
       "    }\n",
       "\n",
       "    .dataframe tbody tr th {\n",
       "        vertical-align: top;\n",
       "    }\n",
       "\n",
       "    .dataframe thead th {\n",
       "        text-align: right;\n",
       "    }\n",
       "</style>\n",
       "<table border=\"1\" class=\"dataframe\">\n",
       "  <thead>\n",
       "    <tr style=\"text-align: right;\">\n",
       "      <th>col_0</th>\n",
       "      <th>count</th>\n",
       "    </tr>\n",
       "    <tr>\n",
       "      <th>prediction</th>\n",
       "      <th></th>\n",
       "    </tr>\n",
       "  </thead>\n",
       "  <tbody>\n",
       "    <tr>\n",
       "      <th>0</th>\n",
       "      <td>16663</td>\n",
       "    </tr>\n",
       "    <tr>\n",
       "      <th>1</th>\n",
       "      <td>33936</td>\n",
       "    </tr>\n",
       "  </tbody>\n",
       "</table>\n",
       "</div>"
      ],
      "text/plain": [
       "col_0       count\n",
       "prediction       \n",
       "0           16663\n",
       "1           33936"
      ]
     },
     "execution_count": 143,
     "metadata": {},
     "output_type": "execute_result"
    }
   ],
   "source": [
    "pd.crosstab(prob_df.prediction, columns=\"count\")"
   ]
  },
  {
   "cell_type": "code",
   "execution_count": 144,
   "metadata": {},
   "outputs": [
    {
     "data": {
      "text/plain": [
       "67.06851914069448"
      ]
     },
     "execution_count": 144,
     "metadata": {},
     "output_type": "execute_result"
    }
   ],
   "source": [
    "33936/len(prob_df)*100"
   ]
  },
  {
   "cell_type": "code",
   "execution_count": 145,
   "metadata": {},
   "outputs": [
    {
     "data": {
      "text/html": [
       "<div>\n",
       "<style scoped>\n",
       "    .dataframe tbody tr th:only-of-type {\n",
       "        vertical-align: middle;\n",
       "    }\n",
       "\n",
       "    .dataframe tbody tr th {\n",
       "        vertical-align: top;\n",
       "    }\n",
       "\n",
       "    .dataframe thead th {\n",
       "        text-align: right;\n",
       "    }\n",
       "</style>\n",
       "<table border=\"1\" class=\"dataframe\">\n",
       "  <thead>\n",
       "    <tr style=\"text-align: right;\">\n",
       "      <th>col_0</th>\n",
       "      <th>count</th>\n",
       "    </tr>\n",
       "    <tr>\n",
       "      <th>prediction</th>\n",
       "      <th></th>\n",
       "    </tr>\n",
       "  </thead>\n",
       "  <tbody>\n",
       "    <tr>\n",
       "      <th>0</th>\n",
       "      <td>27939</td>\n",
       "    </tr>\n",
       "    <tr>\n",
       "      <th>1</th>\n",
       "      <td>22660</td>\n",
       "    </tr>\n",
       "  </tbody>\n",
       "</table>\n",
       "</div>"
      ],
      "text/plain": [
       "col_0       count\n",
       "prediction       \n",
       "0           27939\n",
       "1           22660"
      ]
     },
     "execution_count": 145,
     "metadata": {},
     "output_type": "execute_result"
    }
   ],
   "source": [
    "threshold = 0.15\n",
    "prob_df[\"prediction\"] = np.where(prob_df[0]>threshold, 1, 0)\n",
    "pd.crosstab(prob_df.prediction, columns=\"count\")"
   ]
  },
  {
   "cell_type": "code",
   "execution_count": 146,
   "metadata": {},
   "outputs": [
    {
     "data": {
      "text/plain": [
       "44.78349374493567"
      ]
     },
     "execution_count": 146,
     "metadata": {},
     "output_type": "execute_result"
    }
   ],
   "source": [
    "22660/len(prob_df)*100"
   ]
  },
  {
   "cell_type": "code",
   "execution_count": 164,
   "metadata": {},
   "outputs": [
    {
     "data": {
      "text/html": [
       "<div>\n",
       "<style scoped>\n",
       "    .dataframe tbody tr th:only-of-type {\n",
       "        vertical-align: middle;\n",
       "    }\n",
       "\n",
       "    .dataframe tbody tr th {\n",
       "        vertical-align: top;\n",
       "    }\n",
       "\n",
       "    .dataframe thead th {\n",
       "        text-align: right;\n",
       "    }\n",
       "</style>\n",
       "<table border=\"1\" class=\"dataframe\">\n",
       "  <thead>\n",
       "    <tr style=\"text-align: right;\">\n",
       "      <th>col_0</th>\n",
       "      <th>count</th>\n",
       "    </tr>\n",
       "    <tr>\n",
       "      <th>prediction</th>\n",
       "      <th></th>\n",
       "    </tr>\n",
       "  </thead>\n",
       "  <tbody>\n",
       "    <tr>\n",
       "      <th>0</th>\n",
       "      <td>46025</td>\n",
       "    </tr>\n",
       "    <tr>\n",
       "      <th>1</th>\n",
       "      <td>4574</td>\n",
       "    </tr>\n",
       "  </tbody>\n",
       "</table>\n",
       "</div>"
      ],
      "text/plain": [
       "col_0       count\n",
       "prediction       \n",
       "0           46025\n",
       "1            4574"
      ]
     },
     "execution_count": 164,
     "metadata": {},
     "output_type": "execute_result"
    }
   ],
   "source": [
    "threshold = 0.19\n",
    "prob_df[\"prediction\"] = np.where(prob_df[0]>threshold, 1, 0)\n",
    "pd.crosstab(prob_df.prediction, columns=\"count\")"
   ]
  },
  {
   "cell_type": "code",
   "execution_count": 165,
   "metadata": {},
   "outputs": [
    {
     "data": {
      "text/plain": [
       "9.039704341983043"
      ]
     },
     "execution_count": 165,
     "metadata": {},
     "output_type": "execute_result"
    }
   ],
   "source": [
    "4574/len(prob_df)*100"
   ]
  },
  {
   "cell_type": "code",
   "execution_count": 166,
   "metadata": {},
   "outputs": [
    {
     "data": {
      "text/plain": [
       "0.8999189707306469"
      ]
     },
     "execution_count": 166,
     "metadata": {},
     "output_type": "execute_result"
    }
   ],
   "source": [
    "metrics.accuracy_score(y_test, prediction)"
   ]
  },
  {
   "cell_type": "markdown",
   "metadata": {},
   "source": [
    "## Validación cruzada"
   ]
  },
  {
   "cell_type": "code",
   "execution_count": 181,
   "metadata": {},
   "outputs": [],
   "source": [
    "from sklearn.model_selection import cross_val_score\n",
    "from sklearn import datasets\n",
    "from sklearn.feature_selection import RFE\n",
    "from sklearn.linear_model import LogisticRegression\n",
    "from sklearn.metrics import confusion_matrix\n"
   ]
  },
  {
   "cell_type": "code",
   "execution_count": 178,
   "metadata": {},
   "outputs": [
    {
     "name": "stdout",
     "output_type": "stream",
     "text": [
      "[[45535     0]\n",
      " [ 5064     0]]\n"
     ]
    }
   ],
   "source": [
    "confusion_matrix = confusion_matrix(y_test, y_pred)\n",
    "print(confusion_matrix)"
   ]
  },
  {
   "cell_type": "markdown",
   "metadata": {},
   "source": [
    "* La validación cruzada dice que tenemos 45535 valores con predicción correcta, y 5064 con predicción\n",
    "  incorrecta. La validación cruzada debe sumar los valores como una \"X\""
   ]
  },
  {
   "cell_type": "code",
   "execution_count": 183,
   "metadata": {},
   "outputs": [
    {
     "name": "stdout",
     "output_type": "stream",
     "text": [
      "              precision    recall  f1-score   support\n",
      "\n",
      "           0       0.90      1.00      0.95     45535\n",
      "           1       0.00      0.00      0.00      5064\n",
      "\n",
      "   micro avg       0.90      0.90      0.90     50599\n",
      "   macro avg       0.45      0.50      0.47     50599\n",
      "weighted avg       0.81      0.90      0.85     50599\n",
      "\n"
     ]
    },
    {
     "name": "stderr",
     "output_type": "stream",
     "text": [
      "C:\\Users\\TOM.ZG\\Anaconda3\\lib\\site-packages\\sklearn\\metrics\\classification.py:1143: UndefinedMetricWarning: Precision and F-score are ill-defined and being set to 0.0 in labels with no predicted samples.\n",
      "  'precision', 'predicted', average, warn_for)\n",
      "C:\\Users\\TOM.ZG\\Anaconda3\\lib\\site-packages\\sklearn\\metrics\\classification.py:1143: UndefinedMetricWarning: Precision and F-score are ill-defined and being set to 0.0 in labels with no predicted samples.\n",
      "  'precision', 'predicted', average, warn_for)\n",
      "C:\\Users\\TOM.ZG\\Anaconda3\\lib\\site-packages\\sklearn\\metrics\\classification.py:1143: UndefinedMetricWarning: Precision and F-score are ill-defined and being set to 0.0 in labels with no predicted samples.\n",
      "  'precision', 'predicted', average, warn_for)\n"
     ]
    }
   ],
   "source": [
    "from sklearn.metrics import classification_report\n",
    "print(classification_report(y_test, y_pred))"
   ]
  },
  {
   "cell_type": "markdown",
   "metadata": {},
   "source": [
    "#### Del total de clientes, el 81 % probablemente no caerá en mora"
   ]
  },
  {
   "cell_type": "markdown",
   "metadata": {},
   "source": [
    "## Curva ROC"
   ]
  },
  {
   "cell_type": "code",
   "execution_count": 184,
   "metadata": {},
   "outputs": [
    {
     "data": {
      "image/png": "[encoded data removed]",
      "text/plain": [
       "<Figure size 432x288 with 1 Axes>"
      ]
     },
     "metadata": {
      "needs_background": "light"
     },
     "output_type": "display_data"
    }
   ],
   "source": [
    "from sklearn.metrics import roc_auc_score\n",
    "from sklearn.metrics import roc_curve\n",
    "logit_roc_auc = roc_auc_score(y_test, logreg.predict(X_test))\n",
    "fpr, tpr, thresholds = roc_curve(y_test, logreg.predict_proba(X_test)[:,1])\n",
    "plt.figure()\n",
    "plt.plot(fpr, tpr, label='Logistic Regression (area = %0.2f)' % logit_roc_auc)\n",
    "plt.plot([0, 1], [0, 1],'r--')\n",
    "plt.xlim([0.0, 1.0])\n",
    "plt.ylim([0.0, 1.05])\n",
    "plt.xlabel('False Positive Rate')\n",
    "plt.ylabel('True Positive Rate')\n",
    "plt.title('Receiver operating characteristic')\n",
    "plt.legend(loc=\"lower right\")\n",
    "plt.savefig('Log_ROC')\n",
    "plt.show()"
   ]
  },
  {
   "cell_type": "markdown",
   "metadata": {},
   "source": [
    " * La curva de la característica operativa del receptor (ROC) es otra herramienta común que se usa con los clasificadores binarios. La línea de puntos representa la curva ROC de un clasificador puramente aleatorio; un buen clasificador se mantiene lo más alejado posible de esa línea (hacia la esquina superior izquierda).\n"
   ]
  },
  {
   "cell_type": "code",
   "execution_count": null,
   "metadata": {},
   "outputs": [],
   "source": []
  }
 ],
 "metadata": {
  "kernelspec": {
   "display_name": "Python 3",
   "language": "python",
   "name": "python3"
  },
  "language_info": {
   "codemirror_mode": {
    "name": "ipython",
    "version": 3
   },
   "file_extension": ".py",
   "mimetype": "text/x-python",
   "name": "python",
   "nbconvert_exporter": "python",
   "pygments_lexer": "ipython3",
   "version": "3.7.0"
  }
 },
 "nbformat": 4,
 "nbformat_minor": 2
}
