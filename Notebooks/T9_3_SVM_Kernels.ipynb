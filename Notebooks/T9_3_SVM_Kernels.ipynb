{
 "cells": [
  {
   "cell_type": "markdown",
   "metadata": {},
   "source": [
    "# Identificar fronteras no lineales"
   ]
  },
  {
   "cell_type": "code",
   "execution_count": 10,
   "metadata": {},
   "outputs": [],
   "source": [
    "from sklearn.datasets.samples_generator import make_circles\n",
    "from sklearn.datasets.samples_generator import make_blobs\n",
    "from sklearn.svm import SVC"
   ]
  },
  {
   "cell_type": "code",
   "execution_count": 2,
   "metadata": {},
   "outputs": [],
   "source": [
    "X, Y = make_circles(100, factor = .1, noise = .1)"
   ]
  },
  {
   "cell_type": "code",
   "execution_count": 12,
   "metadata": {},
   "outputs": [],
   "source": [
    "import matplotlib.pyplot as plt\n",
    "import numpy as np"
   ]
  },
  {
   "cell_type": "code",
   "execution_count": 31,
   "metadata": {},
   "outputs": [],
   "source": [
    "def plt_svc(model, ax=None, plot_support=True):\n",
    "    \"\"\"Plot de la función de decisión para una clasificación en 2D con SVC\"\"\"\n",
    "    if ax is None:\n",
    "        ax = plt.gca()\n",
    "    xlim = ax.get_xlim()\n",
    "    ylim = ax.get_ylim()\n",
    "    \n",
    "    ##Generamos la parrila de puntos para evaluar el modelo\n",
    "    xx = np.linspace(xlim[0], xlim[1], 30)\n",
    "    yy = np.linspace(ylim[0], ylim[1], 30)\n",
    "    Y, X = np.meshgrid(yy,xx)\n",
    "    \n",
    "    xy = np.vstack([X.ravel(), Y.ravel()]).T\n",
    "    P = model.decision_function(xy).reshape(X.shape)\n",
    "\n",
    "    \n",
    "    ##Representamos las fronteras y los márgenes del SVC\n",
    "    ax.contour(X,Y,P, colors=\"k\", levels=[-1,0,1], alpha = 0.5, linestyles=[\"--\", \"-\", \"--\"])\n",
    "    \n",
    "    #print(model.support_vectors_)\n",
    "    \n",
    "    if plot_support:\n",
    "        ax.scatter(model.support_vectors_[:,0], \n",
    "                   model.support_vectors_[:,1], \n",
    "                   s=300, linewidth=1, facecolors = \"blue\");\n",
    "    \n",
    "    \n",
    "    ax.set_xlim(xlim)\n",
    "    ax.set_ylim(ylim)"
   ]
  },
  {
   "cell_type": "code",
   "execution_count": 5,
   "metadata": {},
   "outputs": [],
   "source": [
    "def plot_svm(N=10, ax=None):\n",
    "    X, Y = make_blobs(n_samples=100000, centers=2, random_state=0, cluster_std=0.6)\n",
    "    \n",
    "    X = X[:N]\n",
    "    Y = Y[:N]\n",
    "    model = SVC(kernel=\"linear\", C=1E10)\n",
    "    model.fit(X,Y)\n",
    "    \n",
    "    ax = ax or plt.gca()\n",
    "    ax.scatter(X[:,0], X[:,1], c=Y, s = 50, cmap=\"autumn\")\n",
    "    ax.set_xlim(-1,4)\n",
    "    ax.set_ylim(-1,6)\n",
    "    plt_svc(model, ax)"
   ]
  },
  {
   "cell_type": "code",
   "execution_count": 13,
   "metadata": {},
   "outputs": [
    {
     "name": "stdout",
     "output_type": "stream",
     "text": [
      "[[ 7.22130809e-01 -5.01014066e-01]\n",
      " [ 6.34424111e-01  5.93969618e-01]\n",
      " [ 5.59960719e-01  8.75593331e-01]\n",
      " [ 1.04893068e+00  1.45721874e-01]\n",
      " [ 6.27196528e-01 -8.45020036e-01]\n",
      " [-6.72540700e-01 -9.04261977e-01]\n",
      " [ 1.84676851e-01 -8.98461241e-01]\n",
      " [-6.93054149e-01  9.40427174e-01]\n",
      " [-9.54399751e-01 -2.30379686e-01]\n",
      " [ 9.50411506e-01 -3.83290350e-01]\n",
      " [ 6.91843749e-01  6.63984207e-01]\n",
      " [ 1.65987030e-01 -8.20448364e-01]\n",
      " [-8.16815988e-01  4.45492475e-01]\n",
      " [ 8.30590686e-01  4.60710157e-01]\n",
      " [-1.13541424e+00 -1.95226838e-01]\n",
      " [-2.81136877e-01 -9.93225847e-01]\n",
      " [ 6.91443144e-01 -6.69933511e-01]\n",
      " [ 2.43393421e-01  1.12822281e+00]\n",
      " [ 8.21208330e-01 -2.16663637e-02]\n",
      " [ 8.22737282e-01  4.43783695e-01]\n",
      " [ 1.46016402e-01  9.46316764e-01]\n",
      " [ 1.30678020e-01 -1.07390287e+00]\n",
      " [-1.71965112e-01 -9.86336672e-01]\n",
      " [ 1.09515086e+00  1.61592893e-01]\n",
      " [-8.68029405e-01 -2.20421385e-01]\n",
      " [-8.55478334e-01  7.63055094e-02]\n",
      " [ 9.27869530e-01 -4.95342019e-01]\n",
      " [ 5.04448533e-02  1.11028528e+00]\n",
      " [-1.01046722e-01  1.02253123e+00]\n",
      " [-7.68640545e-01  4.38632628e-01]\n",
      " [-1.19058864e-01  1.23166110e+00]\n",
      " [-8.65460403e-05 -9.17628780e-01]\n",
      " [-9.27125057e-01  2.52724580e-02]\n",
      " [-1.02734966e+00 -4.50863531e-01]\n",
      " [-5.54400969e-01 -8.37197228e-01]\n",
      " [-8.19213818e-01 -5.33025613e-01]\n",
      " [-2.23596413e-01  8.39277047e-01]\n",
      " [-4.87706845e-01  9.05782781e-01]\n",
      " [ 5.20492383e-01  8.07511521e-01]\n",
      " [-9.39387122e-01  2.17168820e-01]\n",
      " [-1.01724079e+00  2.61447007e-01]\n",
      " [ 9.18233859e-01 -2.77849475e-01]\n",
      " [-5.88751606e-01 -5.73714370e-01]\n",
      " [ 6.68057620e-01  9.43682775e-01]\n",
      " [ 4.91981644e-01 -8.33029456e-01]\n",
      " [-5.41187588e-01  6.48372748e-01]\n",
      " [ 1.89890812e-01 -9.74149018e-01]\n",
      " [-8.71604435e-01 -6.56963752e-01]\n",
      " [ 9.96923875e-01 -1.32207802e-01]\n",
      " [-7.40240074e-01  8.46233283e-01]\n",
      " [-2.56657829e-02  2.01976162e-01]\n",
      " [ 2.20041729e-02 -1.03344786e-01]\n",
      " [ 9.65885468e-02  1.69621763e-01]\n",
      " [ 1.47000802e-01  7.93515079e-03]\n",
      " [ 7.46445303e-02 -2.08649823e-01]\n",
      " [-9.48736314e-02  9.27360962e-02]\n",
      " [ 8.58258887e-02 -4.93480762e-02]\n",
      " [ 5.39594558e-02 -1.74024577e-01]\n",
      " [ 1.05134374e-01  6.02473410e-03]\n",
      " [-8.73565332e-02  2.67350870e-01]\n",
      " [-8.38611710e-02  6.62888644e-03]\n",
      " [ 1.56507994e-01  5.69803295e-02]\n",
      " [-9.88191653e-02 -1.74755733e-01]\n",
      " [ 6.94345713e-02  7.69081331e-02]\n",
      " [ 9.37477200e-02  8.10022404e-02]\n",
      " [ 1.52540040e-01  8.59218467e-02]\n",
      " [ 1.71170145e-02  7.93521872e-03]\n",
      " [-1.72203971e-01 -1.04638893e-02]\n",
      " [ 5.36850593e-02  1.54583236e-01]\n",
      " [ 1.78111511e-01 -1.61204227e-01]\n",
      " [-2.57385077e-01 -1.03176541e-02]\n",
      " [ 1.12537189e-01 -1.48119306e-01]\n",
      " [ 2.21628220e-01  1.30498028e-01]\n",
      " [-3.45411433e-02  6.08294088e-02]\n",
      " [ 1.84426013e-01 -1.63961738e-01]\n",
      " [ 8.65821952e-02  4.39571879e-02]\n",
      " [-2.60645543e-01 -7.42484411e-02]\n",
      " [-4.57676903e-02  1.49968306e-01]\n",
      " [ 2.22310550e-01 -1.74205650e-01]\n",
      " [ 1.77144362e-01  2.48011047e-01]\n",
      " [ 5.01040897e-02  1.83752032e-02]\n",
      " [ 2.01998519e-01 -1.07276594e-01]\n",
      " [-1.90811636e-02  5.88604331e-02]\n",
      " [ 2.12353319e-02 -7.09521724e-02]\n",
      " [-9.97496289e-03 -5.44119368e-02]\n",
      " [-1.08551007e-01  1.38326508e-01]\n",
      " [ 1.04871400e-01  1.22428879e-01]\n",
      " [-3.58278717e-02 -2.35815842e-01]\n",
      " [ 1.67282181e-01  1.14016173e-01]\n",
      " [ 1.07337843e-02  1.06583879e-01]\n",
      " [-1.68352810e-01 -9.43498053e-02]\n",
      " [-1.96999368e-01  6.73522972e-02]\n",
      " [-7.52452787e-02 -4.02340575e-02]\n",
      " [-3.07556738e-01  2.38381471e-01]\n",
      " [-9.58692749e-02  1.46760035e-01]\n",
      " [-7.69230242e-02 -3.55213360e-01]\n",
      " [-3.13156246e-01  2.61641707e-02]\n",
      " [-7.97983296e-02 -5.42212743e-02]\n",
      " [ 9.97720488e-02  4.16649393e-02]\n",
      " [ 1.56523484e-01 -1.35988029e-01]]\n"
     ]
    },
    {
     "data": {
      "image/png": "[encoded data removed]",
      "text/plain": [
       "<Figure size 432x288 with 1 Axes>"
      ]
     },
     "metadata": {
      "needs_background": "light"
     },
     "output_type": "display_data"
    }
   ],
   "source": [
    "plt.scatter(X[:,0], X[:,1], c = Y, s = 50, cmap = 'winter')\n",
    "plt_svc(SVC(kernel = 'linear').fit(X,Y), plot_support = False)"
   ]
  },
  {
   "cell_type": "code",
   "execution_count": 14,
   "metadata": {},
   "outputs": [],
   "source": [
    "\n",
    "r = np.exp(-(X**2).sum(1))"
   ]
  },
  {
   "cell_type": "code",
   "execution_count": 15,
   "metadata": {},
   "outputs": [
    {
     "data": {
      "text/plain": [
       "array([0.46186252, 0.95939433, 0.46987252, 0.98889776, 0.33952093,\n",
       "       0.96261582, 0.32579386, 0.97856095, 0.33040558, 0.95207968,\n",
       "       0.982553  , 0.99024656, 0.28083142, 0.43113322, 0.96734877,\n",
       "       0.98897173, 0.25545032, 0.38138204, 0.92394046, 0.99294834,\n",
       "       0.34987003, 0.39870926, 0.49624416, 0.42077716, 0.40570267,\n",
       "       0.97263975, 0.26519788, 0.96049664, 0.9893214 , 0.98476721,\n",
       "       0.96981395, 0.34454329, 0.9996441 , 0.39577693, 0.97067488,\n",
       "       0.2639153 , 0.97357729, 0.5092315 , 0.94392316, 0.93579997,\n",
       "       0.96598792, 0.93599158, 0.41734561, 0.39978187, 0.31026015,\n",
       "       0.99511865, 0.36698583, 0.29362035, 0.94092071, 0.9906156 ,\n",
       "       0.9291836 , 0.97571458, 0.44840401, 0.47822894, 0.33077874,\n",
       "       0.92332907, 0.9112941 , 0.29075389, 0.99715598, 0.34792075,\n",
       "       0.94903304, 0.45693832, 0.99617868, 0.99452987, 0.99694452,\n",
       "       0.21628375, 0.43082962, 0.42307764, 0.28401585, 0.36485341,\n",
       "       0.96955552, 0.97434791, 0.94469538, 0.38472458, 0.95984543,\n",
       "       0.47030149, 0.34704514, 0.39733037, 0.98859025, 0.39470743,\n",
       "       0.96344049, 0.33182971, 0.39837809, 0.95758089, 0.99274581,\n",
       "       0.85948933, 0.96973792, 0.50876115, 0.26267489, 0.39219975,\n",
       "       0.49003855, 0.37342995, 0.8762589 , 0.90596791, 0.30382735,\n",
       "       0.36373267, 0.99073546, 0.28250299, 0.98837764, 0.95791872])"
      ]
     },
     "execution_count": 15,
     "metadata": {},
     "output_type": "execute_result"
    }
   ],
   "source": [
    "r\n"
   ]
  },
  {
   "cell_type": "code",
   "execution_count": 16,
   "metadata": {},
   "outputs": [],
   "source": [
    "from mpl_toolkits import mplot3d"
   ]
  },
  {
   "cell_type": "code",
   "execution_count": 32,
   "metadata": {},
   "outputs": [],
   "source": [
    "def plot_3D(elev = 30,azim = 30, X=X, Y=Y, r=r):\n",
    "    ax = plt.subplot(projection = '3d')\n",
    "    ax.scatter3D(X[:,0],X[:,1],r, c = Y, s = 50, cmap = 'winter')\n",
    "    ax.view_init(elev = elev, azim = azim)\n",
    "    ax.set_xlabel('x[0]')\n",
    "    ax.set_ylabel('y[1]')\n",
    "    ax.set_zlabel('r')"
   ]
  },
  {
   "cell_type": "code",
   "execution_count": 22,
   "metadata": {},
   "outputs": [],
   "source": [
    "from ipywidgets import interact, fixed"
   ]
  },
  {
   "cell_type": "code",
   "execution_count": 34,
   "metadata": {},
   "outputs": [
    {
     "data": {
      "application/vnd.jupyter.widget-view+json": {
       "model_id": "a43440fad9d44f35a361d1e493321781",
       "version_major": 2,
       "version_minor": 0
      },
      "text/plain": [
       "interactive(children=(Dropdown(description='elev', index=4, options=(-90, -60, -30, 0, 30, 60, 90), value=30),…"
      ]
     },
     "metadata": {},
     "output_type": "display_data"
    },
    {
     "data": {
      "text/plain": [
       "<function __main__.plot_3D(elev=30, azim=30, X=array([[ 7.22130809e-01, -5.01014066e-01],\n",
       "       [-2.56657829e-02,  2.01976162e-01],\n",
       "       [ 6.34424111e-01,  5.93969618e-01],\n",
       "       [ 2.20041729e-02, -1.03344786e-01],\n",
       "       [ 5.59960719e-01,  8.75593331e-01],\n",
       "       [ 9.65885468e-02,  1.69621763e-01],\n",
       "       [ 1.04893068e+00,  1.45721874e-01],\n",
       "       [ 1.47000802e-01,  7.93515079e-03],\n",
       "       [ 6.27196528e-01, -8.45020036e-01],\n",
       "       [ 7.46445303e-02, -2.08649823e-01],\n",
       "       [-9.48736314e-02,  9.27360962e-02],\n",
       "       [ 8.58258887e-02, -4.93480762e-02],\n",
       "       [-6.72540700e-01, -9.04261977e-01],\n",
       "       [ 1.84676851e-01, -8.98461241e-01],\n",
       "       [ 5.39594558e-02, -1.74024577e-01],\n",
       "       [ 1.05134374e-01,  6.02473410e-03],\n",
       "       [-6.93054149e-01,  9.40427174e-01],\n",
       "       [-9.54399751e-01, -2.30379686e-01],\n",
       "       [-8.73565332e-02,  2.67350870e-01],\n",
       "       [-8.38611710e-02,  6.62888644e-03],\n",
       "       [ 9.50411506e-01, -3.83290350e-01],\n",
       "       [ 6.91843749e-01,  6.63984207e-01],\n",
       "       [ 1.65987030e-01, -8.20448364e-01],\n",
       "       [-8.16815988e-01,  4.45492475e-01],\n",
       "       [ 8.30590686e-01,  4.60710157e-01],\n",
       "       [ 1.56507994e-01,  5.69803295e-02],\n",
       "       [-1.13541424e+00, -1.95226838e-01],\n",
       "       [-9.88191653e-02, -1.74755733e-01],\n",
       "       [ 6.94345713e-02,  7.69081331e-02],\n",
       "       [ 9.37477200e-02,  8.10022404e-02],\n",
       "       [ 1.52540040e-01,  8.59218467e-02],\n",
       "       [-2.81136877e-01, -9.93225847e-01],\n",
       "       [ 1.71170145e-02,  7.93521872e-03],\n",
       "       [ 6.91443144e-01, -6.69933511e-01],\n",
       "       [-1.72203971e-01, -1.04638893e-02],\n",
       "       [ 2.43393421e-01,  1.12822281e+00],\n",
       "       [ 5.36850593e-02,  1.54583236e-01],\n",
       "       [ 8.21208330e-01, -2.16663637e-02],\n",
       "       [ 1.78111511e-01, -1.61204227e-01],\n",
       "       [-2.57385077e-01, -1.03176541e-02],\n",
       "       [ 1.12537189e-01, -1.48119306e-01],\n",
       "       [ 2.21628220e-01,  1.30498028e-01],\n",
       "       [ 8.22737282e-01,  4.43783695e-01],\n",
       "       [ 1.46016402e-01,  9.46316764e-01],\n",
       "       [ 1.30678020e-01, -1.07390287e+00],\n",
       "       [-3.45411433e-02,  6.08294088e-02],\n",
       "       [-1.71965112e-01, -9.86336672e-01],\n",
       "       [ 1.09515086e+00,  1.61592893e-01],\n",
       "       [ 1.84426013e-01, -1.63961738e-01],\n",
       "       [ 8.65821952e-02,  4.39571879e-02],\n",
       "       [-2.60645543e-01, -7.42484411e-02],\n",
       "       [-4.57676903e-02,  1.49968306e-01],\n",
       "       [-8.68029405e-01, -2.20421385e-01],\n",
       "       [-8.55478334e-01,  7.63055094e-02],\n",
       "       [ 9.27869530e-01, -4.95342019e-01],\n",
       "       [ 2.22310550e-01, -1.74205650e-01],\n",
       "       [ 1.77144362e-01,  2.48011047e-01],\n",
       "       [ 5.04448533e-02,  1.11028528e+00],\n",
       "       [ 5.01040897e-02,  1.83752032e-02],\n",
       "       [-1.01046722e-01,  1.02253123e+00],\n",
       "       [ 2.01998519e-01, -1.07276594e-01],\n",
       "       [-7.68640545e-01,  4.38632628e-01],\n",
       "       [-1.90811636e-02,  5.88604331e-02],\n",
       "       [ 2.12353319e-02, -7.09521724e-02],\n",
       "       [-9.97496289e-03, -5.44119368e-02],\n",
       "       [-1.19058864e-01,  1.23166110e+00],\n",
       "       [-8.65460403e-05, -9.17628780e-01],\n",
       "       [-9.27125057e-01,  2.52724580e-02],\n",
       "       [-1.02734966e+00, -4.50863531e-01],\n",
       "       [-5.54400969e-01, -8.37197228e-01],\n",
       "       [-1.08551007e-01,  1.38326508e-01],\n",
       "       [ 1.04871400e-01,  1.22428879e-01],\n",
       "       [-3.58278717e-02, -2.35815842e-01],\n",
       "       [-8.19213818e-01, -5.33025613e-01],\n",
       "       [ 1.67282181e-01,  1.14016173e-01],\n",
       "       [-2.23596413e-01,  8.39277047e-01],\n",
       "       [-4.87706845e-01,  9.05782781e-01],\n",
       "       [ 5.20492383e-01,  8.07511521e-01],\n",
       "       [ 1.07337843e-02,  1.06583879e-01],\n",
       "       [-9.39387122e-01,  2.17168820e-01],\n",
       "       [-1.68352810e-01, -9.43498053e-02],\n",
       "       [-1.01724079e+00,  2.61447007e-01],\n",
       "       [ 9.18233859e-01, -2.77849475e-01],\n",
       "       [-1.96999368e-01,  6.73522972e-02],\n",
       "       [-7.52452787e-02, -4.02340575e-02],\n",
       "       [-3.07556738e-01,  2.38381471e-01],\n",
       "       [-9.58692749e-02,  1.46760035e-01],\n",
       "       [-5.88751606e-01, -5.73714370e-01],\n",
       "       [ 6.68057620e-01,  9.43682775e-01],\n",
       "       [ 4.91981644e-01, -8.33029456e-01],\n",
       "       [-5.41187588e-01,  6.48372748e-01],\n",
       "       [ 1.89890812e-01, -9.74149018e-01],\n",
       "       [-7.69230242e-02, -3.55213360e-01],\n",
       "       [-3.13156246e-01,  2.61641707e-02],\n",
       "       [-8.71604435e-01, -6.56963752e-01],\n",
       "       [ 9.96923875e-01, -1.32207802e-01],\n",
       "       [-7.97983296e-02, -5.42212743e-02],\n",
       "       [-7.40240074e-01,  8.46233283e-01],\n",
       "       [ 9.97720488e-02,  4.16649393e-02],\n",
       "       [ 1.56523484e-01, -1.35988029e-01]]), Y=array([0, 1, 0, 1, 0, 1, 0, 1, 0, 1, 1, 1, 0, 0, 1, 1, 0, 0, 1, 1, 0, 0,\n",
       "       0, 0, 0, 1, 0, 1, 1, 1, 1, 0, 1, 0, 1, 0, 1, 0, 1, 1, 1, 1, 0, 0,\n",
       "       0, 1, 0, 0, 1, 1, 1, 1, 0, 0, 0, 1, 1, 0, 1, 0, 1, 0, 1, 1, 1, 0,\n",
       "       0, 0, 0, 0, 1, 1, 1, 0, 1, 0, 0, 0, 1, 0, 1, 0, 0, 1, 1, 1, 1, 0,\n",
       "       0, 0, 0, 0, 1, 1, 0, 0, 1, 0, 1, 1], dtype=int64), r=array([0.46186252, 0.95939433, 0.46987252, 0.98889776, 0.33952093,\n",
       "       0.96261582, 0.32579386, 0.97856095, 0.33040558, 0.95207968,\n",
       "       0.982553  , 0.99024656, 0.28083142, 0.43113322, 0.96734877,\n",
       "       0.98897173, 0.25545032, 0.38138204, 0.92394046, 0.99294834,\n",
       "       0.34987003, 0.39870926, 0.49624416, 0.42077716, 0.40570267,\n",
       "       0.97263975, 0.26519788, 0.96049664, 0.9893214 , 0.98476721,\n",
       "       0.96981395, 0.34454329, 0.9996441 , 0.39577693, 0.97067488,\n",
       "       0.2639153 , 0.97357729, 0.5092315 , 0.94392316, 0.93579997,\n",
       "       0.96598792, 0.93599158, 0.41734561, 0.39978187, 0.31026015,\n",
       "       0.99511865, 0.36698583, 0.29362035, 0.94092071, 0.9906156 ,\n",
       "       0.9291836 , 0.97571458, 0.44840401, 0.47822894, 0.33077874,\n",
       "       0.92332907, 0.9112941 , 0.29075389, 0.99715598, 0.34792075,\n",
       "       0.94903304, 0.45693832, 0.99617868, 0.99452987, 0.99694452,\n",
       "       0.21628375, 0.43082962, 0.42307764, 0.28401585, 0.36485341,\n",
       "       0.96955552, 0.97434791, 0.94469538, 0.38472458, 0.95984543,\n",
       "       0.47030149, 0.34704514, 0.39733037, 0.98859025, 0.39470743,\n",
       "       0.96344049, 0.33182971, 0.39837809, 0.95758089, 0.99274581,\n",
       "       0.85948933, 0.96973792, 0.50876115, 0.26267489, 0.39219975,\n",
       "       0.49003855, 0.37342995, 0.8762589 , 0.90596791, 0.30382735,\n",
       "       0.36373267, 0.99073546, 0.28250299, 0.98837764, 0.95791872]))>"
      ]
     },
     "execution_count": 34,
     "metadata": {},
     "output_type": "execute_result"
    }
   ],
   "source": [
    "interact(plot_3D, elev = [-90,-60,-30,0,30,60,90], azim = [-180, 180], X = fixed(X), Y = fixed(Y), r = fixed(r))"
   ]
  }
 ],
 "metadata": {
  "kernelspec": {
   "display_name": "Python 3",
   "language": "python",
   "name": "python3"
  },
  "language_info": {
   "codemirror_mode": {
    "name": "ipython",
    "version": 3
   },
   "file_extension": ".py",
   "mimetype": "text/x-python",
   "name": "python",
   "nbconvert_exporter": "python",
   "pygments_lexer": "ipython3",
   "version": "3.7.0"
  }
 },
 "nbformat": 4,
 "nbformat_minor": 2
}
