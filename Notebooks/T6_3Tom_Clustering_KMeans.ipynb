{
 "cells": [
  {
   "cell_type": "markdown",
   "metadata": {},
   "source": [
    "# El método k-means"
   ]
  },
  {
   "cell_type": "markdown",
   "metadata": {},
   "source": [
    "* Métodos aleatorios entre 0 y 1"
   ]
  },
  {
   "cell_type": "code",
   "execution_count": 1,
   "metadata": {},
   "outputs": [],
   "source": [
    "import numpy as np"
   ]
  },
  {
   "cell_type": "code",
   "execution_count": 3,
   "metadata": {},
   "outputs": [
    {
     "data": {
      "text/plain": [
       "array([[0.41858183, 0.80290495, 0.93418432],\n",
       "       [0.42616242, 0.12080049, 0.72897783],\n",
       "       [0.31635854, 0.05716505, 0.41579407],\n",
       "       [0.09147284, 0.26316267, 0.90940901],\n",
       "       [0.60417121, 0.44099199, 0.79925853],\n",
       "       [0.72319142, 0.32906845, 0.33617586],\n",
       "       [0.15401725, 0.62825432, 0.37907774],\n",
       "       [0.65404394, 0.4703305 , 0.83253464],\n",
       "       [0.81680297, 0.46323306, 0.33765873],\n",
       "       [0.47211939, 0.71473618, 0.86543244],\n",
       "       [0.28602987, 0.70841004, 0.60390479],\n",
       "       [0.87611539, 0.51606431, 0.17090866],\n",
       "       [0.54232362, 0.35371189, 0.45174799],\n",
       "       [0.40932824, 0.30420663, 0.92965329],\n",
       "       [0.40865829, 0.16895608, 0.56388678],\n",
       "       [0.81030685, 0.21663085, 0.44621135],\n",
       "       [0.41448224, 0.66796737, 0.23950158],\n",
       "       [0.14699357, 0.65693375, 0.9915201 ],\n",
       "       [0.957561  , 0.91740827, 0.97977496],\n",
       "       [0.53263769, 0.15999628, 0.12310307],\n",
       "       [0.65306678, 0.01154278, 0.24795584],\n",
       "       [0.12670402, 0.3146576 , 0.17856108],\n",
       "       [0.47651461, 0.18296575, 0.33582435],\n",
       "       [0.0918693 , 0.05756703, 0.51416589],\n",
       "       [0.79586691, 0.0473466 , 0.9873795 ],\n",
       "       [0.10874172, 0.69484421, 0.03577865],\n",
       "       [0.75849863, 0.73166217, 0.4047339 ],\n",
       "       [0.07746052, 0.64435066, 0.80053513],\n",
       "       [0.55993445, 0.97219256, 0.63015624],\n",
       "       [0.42055785, 0.67425951, 0.61038784]])"
      ]
     },
     "execution_count": 3,
     "metadata": {},
     "output_type": "execute_result"
    }
   ],
   "source": [
    "# Genera 90 números aleatorios y se acomodan en 3 columnas de 30 filas cada una\n",
    "data = np.random.random(90).reshape(30,3)\n",
    "data"
   ]
  },
  {
   "cell_type": "code",
   "execution_count": 7,
   "metadata": {},
   "outputs": [
    {
     "data": {
      "text/plain": [
       "array([[0.0918693 , 0.05756703, 0.51416589],\n",
       "       [0.957561  , 0.91740827, 0.97977496]])"
      ]
     },
     "execution_count": 7,
     "metadata": {},
     "output_type": "execute_result"
    }
   ],
   "source": [
    "# Seleccionar de manera aleatoria 2 observaciones, que serán los centroides\n",
    "\n",
    "cl = np.random.choice(range(len(data)))\n",
    "c2 = np.random.choice(range(len(data)))\n",
    "clust_centers = np.vstack([data[cl], data[c2]])   # Selecciona dos filas al azar\n",
    "clust_centers"
   ]
  },
  {
   "cell_type": "code",
   "execution_count": 8,
   "metadata": {},
   "outputs": [],
   "source": [
    "from scipy.cluster.vq import vq"
   ]
  },
  {
   "cell_type": "code",
   "execution_count": 9,
   "metadata": {},
   "outputs": [
    {
     "data": {
      "text/plain": [
       "(array([1, 0, 0, 0, 1, 0, 0, 1, 1, 1, 0, 1, 0, 0, 0, 0, 0, 0, 1, 0, 0, 0,\n",
       "        0, 0, 0, 0, 1, 0, 1, 1]),\n",
       " array([0.55289064, 0.40236119, 0.24509712, 0.44551862, 0.62003467,\n",
       "        0.70990217, 0.5897416 , 0.56007219, 0.79900012, 0.53833423,\n",
       "        0.68508979, 0.90662841, 0.54268487, 0.57813584, 0.33946274,\n",
       "        0.73896661, 0.74303982, 0.76820973, 0.        , 0.59807914,\n",
       "        0.62283918, 0.42419289, 0.4421341 , 0.        , 0.84832082,\n",
       "        0.79703277, 0.63623868, 0.65309262, 0.53229826, 0.69565835]))"
      ]
     },
     "execution_count": 9,
     "metadata": {},
     "output_type": "execute_result"
    }
   ],
   "source": [
    "vq(data, clust_centers)"
   ]
  },
  {
   "cell_type": "markdown",
   "metadata": {},
   "source": [
    "* Primer array dice a que clúster pertenece cada una de las observaciones\n",
    "* Cada uno de los valores, muestra las distancias de cada observación en relación  los clústers seleccionados"
   ]
  },
  {
   "cell_type": "code",
   "execution_count": 10,
   "metadata": {},
   "outputs": [],
   "source": [
    "from scipy.cluster.vq import kmeans"
   ]
  },
  {
   "cell_type": "code",
   "execution_count": 12,
   "metadata": {},
   "outputs": [
    {
     "data": {
      "text/plain": [
       "(array([[0.46737207, 0.3089641 , 0.34408309],\n",
       "        [0.47518716, 0.59634975, 0.80563319]]), 0.3614778698929921)"
      ]
     },
     "execution_count": 12,
     "metadata": {},
     "output_type": "execute_result"
    }
   ],
   "source": [
    "kmeans(data, clust_centers)  # Para visualizar baricentros"
   ]
  }
 ],
 "metadata": {
  "kernelspec": {
   "display_name": "Python 3",
   "language": "python",
   "name": "python3"
  },
  "language_info": {
   "codemirror_mode": {
    "name": "ipython",
    "version": 3
   },
   "file_extension": ".py",
   "mimetype": "text/x-python",
   "name": "python",
   "nbconvert_exporter": "python",
   "pygments_lexer": "ipython3",
   "version": "3.7.0"
  }
 },
 "nbformat": 4,
 "nbformat_minor": 2
}
