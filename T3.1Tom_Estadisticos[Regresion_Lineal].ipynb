{
 "cells": [
  {
   "cell_type": "markdown",
   "metadata": {},
   "source": [
    "# Modelos de regresión lineal\n",
    "## Modelo con datos simulados\n",
    "\n",
    "#### y = a  + (b * x)\n",
    "* X: 100 valores distribuidos segun una N(1.5, 2.5)\n",
    "* Ye = 2 + (12 * x) + e\n",
    "* e estará distribuída según una N(0,0.8)"
   ]
  },
  {
   "cell_type": "code",
   "execution_count": 1,
   "metadata": {},
   "outputs": [],
   "source": [
    "import pandas as pd\n",
    "import numpy as np"
   ]
  },
  {
   "cell_type": "code",
   "execution_count": 2,
   "metadata": {},
   "outputs": [],
   "source": [
    "# Vector de x\n",
    "x = 1.5 +2.5 * np.random.randn(100)"
   ]
  },
  {
   "cell_type": "code",
   "execution_count": 3,
   "metadata": {},
   "outputs": [],
   "source": [
    "#Residuos[media, desvest]\n",
    "res = 0 + 0.8 * np.random.randn(100)"
   ]
  },
  {
   "cell_type": "code",
   "execution_count": 4,
   "metadata": {},
   "outputs": [],
   "source": [
    "#Predictor [media, desvest]\n",
    "y_pred = 5 + 1.9 * x"
   ]
  },
  {
   "cell_type": "code",
   "execution_count": 5,
   "metadata": {},
   "outputs": [],
   "source": [
    "#real [media, desvest]\n",
    "y_act = 5 + 1.9 * x + res"
   ]
  },
  {
   "cell_type": "code",
   "execution_count": 6,
   "metadata": {},
   "outputs": [],
   "source": [
    "#Construir listas\n",
    "x_list = x.tolist()\n",
    "y_pred_list = y_pred.tolist()\n",
    "y_act_list = y_act.tolist()"
   ]
  },
  {
   "cell_type": "code",
   "execution_count": 7,
   "metadata": {},
   "outputs": [],
   "source": [
    "# Construir dataFrame\n",
    "data = pd.DataFrame({\n",
    "    'x':x_list,\n",
    "    'y_act':y_act_list,\n",
    "    'y_pred':y_pred_list\n",
    "})"
   ]
  },
  {
   "cell_type": "code",
   "execution_count": 8,
   "metadata": {},
   "outputs": [
    {
     "data": {
      "text/html": [
       "<div>\n",
       "<style scoped>\n",
       "    .dataframe tbody tr th:only-of-type {\n",
       "        vertical-align: middle;\n",
       "    }\n",
       "\n",
       "    .dataframe tbody tr th {\n",
       "        vertical-align: top;\n",
       "    }\n",
       "\n",
       "    .dataframe thead th {\n",
       "        text-align: right;\n",
       "    }\n",
       "</style>\n",
       "<table border=\"1\" class=\"dataframe\">\n",
       "  <thead>\n",
       "    <tr style=\"text-align: right;\">\n",
       "      <th></th>\n",
       "      <th>x</th>\n",
       "      <th>y_act</th>\n",
       "      <th>y_pred</th>\n",
       "    </tr>\n",
       "  </thead>\n",
       "  <tbody>\n",
       "    <tr>\n",
       "      <th>0</th>\n",
       "      <td>3.243923</td>\n",
       "      <td>10.830038</td>\n",
       "      <td>11.163454</td>\n",
       "    </tr>\n",
       "    <tr>\n",
       "      <th>1</th>\n",
       "      <td>3.096620</td>\n",
       "      <td>11.969732</td>\n",
       "      <td>10.883578</td>\n",
       "    </tr>\n",
       "    <tr>\n",
       "      <th>2</th>\n",
       "      <td>-1.271217</td>\n",
       "      <td>2.172003</td>\n",
       "      <td>2.584688</td>\n",
       "    </tr>\n",
       "    <tr>\n",
       "      <th>3</th>\n",
       "      <td>2.236327</td>\n",
       "      <td>9.470132</td>\n",
       "      <td>9.249022</td>\n",
       "    </tr>\n",
       "    <tr>\n",
       "      <th>4</th>\n",
       "      <td>2.129424</td>\n",
       "      <td>9.547598</td>\n",
       "      <td>9.045906</td>\n",
       "    </tr>\n",
       "  </tbody>\n",
       "</table>\n",
       "</div>"
      ],
      "text/plain": [
       "          x      y_act     y_pred\n",
       "0  3.243923  10.830038  11.163454\n",
       "1  3.096620  11.969732  10.883578\n",
       "2 -1.271217   2.172003   2.584688\n",
       "3  2.236327   9.470132   9.249022\n",
       "4  2.129424   9.547598   9.045906"
      ]
     },
     "execution_count": 8,
     "metadata": {},
     "output_type": "execute_result"
    }
   ],
   "source": [
    "data.head()"
   ]
  },
  {
   "cell_type": "code",
   "execution_count": 9,
   "metadata": {},
   "outputs": [],
   "source": [
    "import matplotlib.pyplot as plt"
   ]
  },
  {
   "cell_type": "code",
   "execution_count": 10,
   "metadata": {},
   "outputs": [],
   "source": [
    "# Calcular la media de Y para cada registro de x\n",
    "y_mean = [np.mean(y_act) for i in range(1,len(x_list)+1)] "
   ]
  },
  {
   "cell_type": "code",
   "execution_count": 11,
   "metadata": {},
   "outputs": [
    {
     "data": {
      "text/plain": [
       "Text(0.5, 1.0, 'Valor actual [rojo] vs predicción [azul]')"
      ]
     },
     "execution_count": 11,
     "metadata": {},
     "output_type": "execute_result"
    },
    {
     "data": {
      "image/png": "[encoded data removed]",
      "text/plain": [
       "<Figure size 432x288 with 1 Axes>"
      ]
     },
     "metadata": {
      "needs_background": "light"
     },
     "output_type": "display_data"
    }
   ],
   "source": [
    "%matplotlib inline\n",
    "plt.plot(x, y_pred)\n",
    "plt.plot(x, y_act, 'ro')\n",
    "plt.plot(x, y_mean, 'g')\n",
    "plt.title('Valor actual [rojo] vs predicción [azul]')"
   ]
  },
  {
   "cell_type": "code",
   "execution_count": 12,
   "metadata": {},
   "outputs": [],
   "source": [
    "data['SSR'] = (data['y_pred']-np.mean(y_act))**2\n",
    "data['SSD'] = (data['y_pred']-data['y_act'])**2\n",
    "data['SST'] = (data['y_act']-np.mean(y_act))**2\n",
    "                                   \n",
    "                                   \n"
   ]
  },
  {
   "cell_type": "code",
   "execution_count": 13,
   "metadata": {},
   "outputs": [
    {
     "data": {
      "text/html": [
       "<div>\n",
       "<style scoped>\n",
       "    .dataframe tbody tr th:only-of-type {\n",
       "        vertical-align: middle;\n",
       "    }\n",
       "\n",
       "    .dataframe tbody tr th {\n",
       "        vertical-align: top;\n",
       "    }\n",
       "\n",
       "    .dataframe thead th {\n",
       "        text-align: right;\n",
       "    }\n",
       "</style>\n",
       "<table border=\"1\" class=\"dataframe\">\n",
       "  <thead>\n",
       "    <tr style=\"text-align: right;\">\n",
       "      <th></th>\n",
       "      <th>x</th>\n",
       "      <th>y_act</th>\n",
       "      <th>y_pred</th>\n",
       "      <th>SSR</th>\n",
       "      <th>SSD</th>\n",
       "      <th>SST</th>\n",
       "    </tr>\n",
       "  </thead>\n",
       "  <tbody>\n",
       "    <tr>\n",
       "      <th>0</th>\n",
       "      <td>3.243923</td>\n",
       "      <td>10.830038</td>\n",
       "      <td>11.163454</td>\n",
       "      <td>14.166774</td>\n",
       "      <td>0.111167</td>\n",
       "      <td>11.768060</td>\n",
       "    </tr>\n",
       "    <tr>\n",
       "      <th>1</th>\n",
       "      <td>3.096620</td>\n",
       "      <td>11.969732</td>\n",
       "      <td>10.883578</td>\n",
       "      <td>12.138260</td>\n",
       "      <td>1.179732</td>\n",
       "      <td>20.886319</td>\n",
       "    </tr>\n",
       "    <tr>\n",
       "      <th>2</th>\n",
       "      <td>-1.271217</td>\n",
       "      <td>2.172003</td>\n",
       "      <td>2.584688</td>\n",
       "      <td>23.183156</td>\n",
       "      <td>0.170309</td>\n",
       "      <td>27.327534</td>\n",
       "    </tr>\n",
       "    <tr>\n",
       "      <th>3</th>\n",
       "      <td>2.236327</td>\n",
       "      <td>9.470132</td>\n",
       "      <td>9.249022</td>\n",
       "      <td>3.420445</td>\n",
       "      <td>0.048890</td>\n",
       "      <td>4.287196</td>\n",
       "    </tr>\n",
       "    <tr>\n",
       "      <th>4</th>\n",
       "      <td>2.129424</td>\n",
       "      <td>9.547598</td>\n",
       "      <td>9.045906</td>\n",
       "      <td>2.710400</td>\n",
       "      <td>0.251695</td>\n",
       "      <td>4.613994</td>\n",
       "    </tr>\n",
       "  </tbody>\n",
       "</table>\n",
       "</div>"
      ],
      "text/plain": [
       "          x      y_act     y_pred        SSR       SSD        SST\n",
       "0  3.243923  10.830038  11.163454  14.166774  0.111167  11.768060\n",
       "1  3.096620  11.969732  10.883578  12.138260  1.179732  20.886319\n",
       "2 -1.271217   2.172003   2.584688  23.183156  0.170309  27.327534\n",
       "3  2.236327   9.470132   9.249022   3.420445  0.048890   4.287196\n",
       "4  2.129424   9.547598   9.045906   2.710400  0.251695   4.613994"
      ]
     },
     "execution_count": 13,
     "metadata": {},
     "output_type": "execute_result"
    }
   ],
   "source": [
    "data.head()"
   ]
  },
  {
   "cell_type": "code",
   "execution_count": 14,
   "metadata": {},
   "outputs": [],
   "source": [
    "SSR = sum(data['SSR'])\n",
    "SSD = sum(data['SSD'])\n",
    "SST = sum(data['SST'])"
   ]
  },
  {
   "cell_type": "code",
   "execution_count": 15,
   "metadata": {},
   "outputs": [
    {
     "name": "stdout",
     "output_type": "stream",
     "text": [
      "2107.6891336748567\n",
      "58.283928744023655\n",
      "2165.9730624188805\n"
     ]
    }
   ],
   "source": [
    "print (SSR)\n",
    "print (SSD)\n",
    "print (SSR+SSD)"
   ]
  },
  {
   "cell_type": "code",
   "execution_count": 16,
   "metadata": {},
   "outputs": [
    {
     "name": "stdout",
     "output_type": "stream",
     "text": [
      "0.8911840999539461\n"
     ]
    }
   ],
   "source": [
    "R2 = SSR / SST\n",
    "print (R2)"
   ]
  },
  {
   "cell_type": "code",
   "execution_count": 17,
   "metadata": {},
   "outputs": [
    {
     "data": {
      "text/plain": [
       "(array([ 1.,  0.,  9., 14., 15., 23., 18., 15.,  4.,  1.]),\n",
       " array([-2.09929453, -1.68058513, -1.26187573, -0.84316633, -0.42445693,\n",
       "        -0.00574753,  0.41296187,  0.83167127,  1.25038067,  1.66909007,\n",
       "         2.08779947]),\n",
       " <a list of 10 Patch objects>)"
      ]
     },
     "execution_count": 17,
     "metadata": {},
     "output_type": "execute_result"
    },
    {
     "data": {
      "image/png": "[encoded data removed]",
      "text/plain": [
       "<Figure size 432x288 with 1 Axes>"
      ]
     },
     "metadata": {
      "needs_background": "light"
     },
     "output_type": "display_data"
    }
   ],
   "source": [
    "plt.hist(data['y_pred']-data['y_act'])"
   ]
  },
  {
   "cell_type": "markdown",
   "metadata": {},
   "source": [
    "# Obteniendo la recta de regresión lineal\n",
    " * y = a + b * x\n",
    " * b = sum((xi- x_m)*(y_i_m))/sum((xi-x_m)^2\n",
    " * a = y_m -b * x_m"
   ]
  },
  {
   "cell_type": "markdown",
   "metadata": {},
   "source": [
    "### Promedios"
   ]
  },
  {
   "cell_type": "code",
   "execution_count": 19,
   "metadata": {},
   "outputs": [
    {
     "data": {
      "text/plain": [
       "(1.3479583822883614, 7.399577013662503)"
      ]
     },
     "execution_count": 19,
     "metadata": {},
     "output_type": "execute_result"
    }
   ],
   "source": [
    "x_mean = np.mean(data['x'])\n",
    "y_mean = np.mean(data['y_act'])\n",
    "x_mean, y_mean"
   ]
  },
  {
   "cell_type": "markdown",
   "metadata": {},
   "source": [
    "### Calcular la beta"
   ]
  },
  {
   "cell_type": "code",
   "execution_count": 21,
   "metadata": {},
   "outputs": [],
   "source": [
    "# Numerador [arriba] (data cov --> covarianza)\n",
    "data['beta_n'] = (data['x']-x_mean) * (data['y_act']-y_mean)\n",
    "# Denominador [abajo]\n",
    "data['beta_d'] = (data['x']-x_mean)**2"
   ]
  },
  {
   "cell_type": "code",
   "execution_count": 22,
   "metadata": {},
   "outputs": [],
   "source": [
    "#Beta\n",
    "beta = sum (data['beta_n'])/sum(data['beta_d'])"
   ]
  },
  {
   "cell_type": "code",
   "execution_count": 23,
   "metadata": {},
   "outputs": [],
   "source": [
    "alpha = y_mean - beta * x_mean\n"
   ]
  },
  {
   "cell_type": "code",
   "execution_count": 24,
   "metadata": {},
   "outputs": [
    {
     "data": {
      "text/plain": [
       "(4.714182726734279, 1.992193766672057)"
      ]
     },
     "execution_count": 24,
     "metadata": {},
     "output_type": "execute_result"
    }
   ],
   "source": [
    "alpha, beta"
   ]
  },
  {
   "cell_type": "markdown",
   "metadata": {},
   "source": [
    "### Modelo de regresión lineal obtenido\n",
    "\n",
    "\n",
    "y = alpha + (beta + (x))\n",
    "\n",
    "y = 4.714182726734279 + (1.992193766672057 * (x))"
   ]
  },
  {
   "cell_type": "code",
   "execution_count": 25,
   "metadata": {},
   "outputs": [],
   "source": [
    "data['y_model'] = alpha + beta * data['x']"
   ]
  },
  {
   "cell_type": "code",
   "execution_count": 26,
   "metadata": {},
   "outputs": [
    {
     "data": {
      "text/html": [
       "<div>\n",
       "<style scoped>\n",
       "    .dataframe tbody tr th:only-of-type {\n",
       "        vertical-align: middle;\n",
       "    }\n",
       "\n",
       "    .dataframe tbody tr th {\n",
       "        vertical-align: top;\n",
       "    }\n",
       "\n",
       "    .dataframe thead th {\n",
       "        text-align: right;\n",
       "    }\n",
       "</style>\n",
       "<table border=\"1\" class=\"dataframe\">\n",
       "  <thead>\n",
       "    <tr style=\"text-align: right;\">\n",
       "      <th></th>\n",
       "      <th>x</th>\n",
       "      <th>y_act</th>\n",
       "      <th>y_pred</th>\n",
       "      <th>SSR</th>\n",
       "      <th>SSD</th>\n",
       "      <th>SST</th>\n",
       "      <th>beta_n</th>\n",
       "      <th>beta_d</th>\n",
       "      <th>y_model</th>\n",
       "    </tr>\n",
       "  </thead>\n",
       "  <tbody>\n",
       "    <tr>\n",
       "      <th>0</th>\n",
       "      <td>3.243923</td>\n",
       "      <td>10.830038</td>\n",
       "      <td>11.163454</td>\n",
       "      <td>14.166774</td>\n",
       "      <td>0.111167</td>\n",
       "      <td>11.768060</td>\n",
       "      <td>6.504033</td>\n",
       "      <td>3.594683</td>\n",
       "      <td>11.176707</td>\n",
       "    </tr>\n",
       "    <tr>\n",
       "      <th>1</th>\n",
       "      <td>3.096620</td>\n",
       "      <td>11.969732</td>\n",
       "      <td>10.883578</td>\n",
       "      <td>12.138260</td>\n",
       "      <td>1.179732</td>\n",
       "      <td>20.886319</td>\n",
       "      <td>7.991654</td>\n",
       "      <td>3.057817</td>\n",
       "      <td>10.883249</td>\n",
       "    </tr>\n",
       "    <tr>\n",
       "      <th>2</th>\n",
       "      <td>-1.271217</td>\n",
       "      <td>2.172003</td>\n",
       "      <td>2.584688</td>\n",
       "      <td>23.183156</td>\n",
       "      <td>0.170309</td>\n",
       "      <td>27.327534</td>\n",
       "      <td>13.691933</td>\n",
       "      <td>6.860079</td>\n",
       "      <td>2.181672</td>\n",
       "    </tr>\n",
       "    <tr>\n",
       "      <th>3</th>\n",
       "      <td>2.236327</td>\n",
       "      <td>9.470132</td>\n",
       "      <td>9.249022</td>\n",
       "      <td>3.420445</td>\n",
       "      <td>0.048890</td>\n",
       "      <td>4.287196</td>\n",
       "      <td>1.839416</td>\n",
       "      <td>0.789199</td>\n",
       "      <td>9.169380</td>\n",
       "    </tr>\n",
       "    <tr>\n",
       "      <th>4</th>\n",
       "      <td>2.129424</td>\n",
       "      <td>9.547598</td>\n",
       "      <td>9.045906</td>\n",
       "      <td>2.710400</td>\n",
       "      <td>0.251695</td>\n",
       "      <td>4.613994</td>\n",
       "      <td>1.678605</td>\n",
       "      <td>0.610689</td>\n",
       "      <td>8.956409</td>\n",
       "    </tr>\n",
       "  </tbody>\n",
       "</table>\n",
       "</div>"
      ],
      "text/plain": [
       "          x      y_act     y_pred        SSR       SSD        SST     beta_n  \\\n",
       "0  3.243923  10.830038  11.163454  14.166774  0.111167  11.768060   6.504033   \n",
       "1  3.096620  11.969732  10.883578  12.138260  1.179732  20.886319   7.991654   \n",
       "2 -1.271217   2.172003   2.584688  23.183156  0.170309  27.327534  13.691933   \n",
       "3  2.236327   9.470132   9.249022   3.420445  0.048890   4.287196   1.839416   \n",
       "4  2.129424   9.547598   9.045906   2.710400  0.251695   4.613994   1.678605   \n",
       "\n",
       "     beta_d    y_model  \n",
       "0  3.594683  11.176707  \n",
       "1  3.057817  10.883249  \n",
       "2  6.860079   2.181672  \n",
       "3  0.789199   9.169380  \n",
       "4  0.610689   8.956409  "
      ]
     },
     "execution_count": 26,
     "metadata": {},
     "output_type": "execute_result"
    }
   ],
   "source": [
    "data.head()"
   ]
  },
  {
   "cell_type": "markdown",
   "metadata": {},
   "source": [
    "### Cálculo del R cuadrado"
   ]
  },
  {
   "cell_type": "code",
   "execution_count": 28,
   "metadata": {},
   "outputs": [],
   "source": [
    "SSR = sum((data['y_model']-y_mean)**2)   #Residuos cuadrados\n",
    "SSD = sum((data['y_model']-data['y_act'])**2)               #Residuos de la diferencia                    \n",
    "SST = sum((data['y_act']-y_mean)**2)            # Residuos totales"
   ]
  },
  {
   "cell_type": "code",
   "execution_count": 30,
   "metadata": {},
   "outputs": [
    {
     "data": {
      "text/plain": [
       "(0.9785551902408837, 0.8911840999539461)"
      ]
     },
     "execution_count": 30,
     "metadata": {},
     "output_type": "execute_result"
    }
   ],
   "source": [
    "r2 = SSR / SST\n",
    "#[modelo actual(r2) vs modelo anterior(R2)]\n",
    "r2, R2"
   ]
  },
  {
   "cell_type": "code",
   "execution_count": 33,
   "metadata": {},
   "outputs": [
    {
     "data": {
      "text/plain": [
       "Text(0.5, 1.0, 'Valor actual [rojo] vs predicción [azul]')"
      ]
     },
     "execution_count": 33,
     "metadata": {},
     "output_type": "execute_result"
    },
    {
     "data": {
      "image/png": "[encoded data removed]",
      "text/plain": [
       "<Figure size 432x288 with 1 Axes>"
      ]
     },
     "metadata": {
      "needs_background": "light"
     },
     "output_type": "display_data"
    }
   ],
   "source": [
    "y_mean = [np.mean(y_act) for i in range(1,len(x_list)+1)] \n",
    "%matplotlib inline\n",
    "plt.plot(x, y_pred)\n",
    "plt.plot(x, y_act, 'ro')\n",
    "plt.plot(x, y_mean, 'g')\n",
    "plt.plot(data['x'], data['y_model'], 'm')\n",
    "plt.title('Valor actual [rojo] vs predicción [azul]')"
   ]
  },
  {
   "cell_type": "markdown",
   "metadata": {},
   "source": [
    "## Error estándar de los residuos"
   ]
  },
  {
   "cell_type": "code",
   "execution_count": 35,
   "metadata": {},
   "outputs": [
    {
     "data": {
      "text/plain": [
       "0.7193953472009887"
      ]
     },
     "execution_count": 35,
     "metadata": {},
     "output_type": "execute_result"
    }
   ],
   "source": [
    "RSE = np.sqrt(SSD/(len(data)-2))\n",
    "RSE"
   ]
  },
  {
   "cell_type": "code",
   "execution_count": 37,
   "metadata": {},
   "outputs": [
    {
     "data": {
      "text/plain": [
       "7.399577013662503"
      ]
     },
     "execution_count": 37,
     "metadata": {},
     "output_type": "execute_result"
    }
   ],
   "source": [
    "np.mean(data['y_act'])"
   ]
  },
  {
   "cell_type": "code",
   "execution_count": 38,
   "metadata": {},
   "outputs": [
    {
     "data": {
      "text/plain": [
       "0.09722114465093135"
      ]
     },
     "execution_count": 38,
     "metadata": {},
     "output_type": "execute_result"
    }
   ],
   "source": [
    "# Error debido al uso del nuevo modelo\n",
    "RSE / np.mean(data['y_act'])"
   ]
  }
 ],
 "metadata": {
  "kernelspec": {
   "display_name": "Python 3",
   "language": "python",
   "name": "python3"
  },
  "language_info": {
   "codemirror_mode": {
    "name": "ipython",
    "version": 3
   },
   "file_extension": ".py",
   "mimetype": "text/x-python",
   "name": "python",
   "nbconvert_exporter": "python",
   "pygments_lexer": "ipython3",
   "version": "3.7.0"
  }
 },
 "nbformat": 4,
 "nbformat_minor": 2
}
